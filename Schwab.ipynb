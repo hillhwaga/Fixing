{
 "cells": [
  {
   "cell_type": "code",
   "execution_count": 1,
   "id": "e6d3c877-6c04-4baa-bc63-24941a4bda72",
   "metadata": {},
   "outputs": [
    {
     "name": "stdout",
     "output_type": "stream",
     "text": [
      "/opt/anaconda3/envs/dev/bin/python\n"
     ]
    }
   ],
   "source": [
    "! which python"
   ]
  },
  {
   "cell_type": "code",
   "execution_count": 2,
   "id": "19e81170-b252-4446-b2f2-162199441c8d",
   "metadata": {},
   "outputs": [
    {
     "name": "stdout",
     "output_type": "stream",
     "text": [
      "\u001b[33mWARNING: Package(s) not found: matplotlib\u001b[0m\n"
     ]
    }
   ],
   "source": [
    "! pip show matplotlib"
   ]
  },
  {
   "cell_type": "code",
   "execution_count": 3,
   "id": "062fc21d-97d5-422d-958c-090b0837009b",
   "metadata": {},
   "outputs": [
    {
     "name": "stdout",
     "output_type": "stream",
     "text": [
      "Collecting matplotlib\n",
      "  Downloading matplotlib-3.4.3-cp39-cp39-macosx_10_9_x86_64.whl (7.2 MB)\n",
      "\u001b[K     |████████████████████████████████| 7.2 MB 1.7 MB/s eta 0:00:01\n",
      "\u001b[?25hCollecting cycler>=0.10\n",
      "  Downloading cycler-0.11.0-py3-none-any.whl (6.4 kB)\n",
      "Collecting pillow>=6.2.0\n",
      "  Downloading Pillow-8.4.0-cp39-cp39-macosx_10_10_x86_64.whl (3.0 MB)\n",
      "\u001b[K     |████████████████████████████████| 3.0 MB 101.3 MB/s eta 0:00:01\n",
      "\u001b[?25hCollecting kiwisolver>=1.0.1\n",
      "  Downloading kiwisolver-1.3.2-cp39-cp39-macosx_10_9_x86_64.whl (61 kB)\n",
      "\u001b[K     |████████████████████████████████| 61 kB 1.9 MB/s  eta 0:00:01\n",
      "\u001b[?25hRequirement already satisfied: numpy>=1.16 in /opt/anaconda3/envs/dev/lib/python3.9/site-packages (from matplotlib) (1.21.2)\n",
      "Requirement already satisfied: python-dateutil>=2.7 in /opt/anaconda3/envs/dev/lib/python3.9/site-packages (from matplotlib) (2.8.2)\n",
      "Requirement already satisfied: pyparsing>=2.2.1 in /opt/anaconda3/envs/dev/lib/python3.9/site-packages (from matplotlib) (3.0.3)\n",
      "Requirement already satisfied: six>=1.5 in /opt/anaconda3/envs/dev/lib/python3.9/site-packages (from python-dateutil>=2.7->matplotlib) (1.16.0)\n",
      "Installing collected packages: pillow, kiwisolver, cycler, matplotlib\n",
      "Successfully installed cycler-0.11.0 kiwisolver-1.3.2 matplotlib-3.4.3 pillow-8.4.0\n"
     ]
    }
   ],
   "source": [
    "! pip install matplotlib"
   ]
  },
  {
   "cell_type": "code",
   "execution_count": 7,
   "id": "a6ce01e8-450d-4e51-95b8-72b0cb05e263",
   "metadata": {},
   "outputs": [
    {
     "name": "stdout",
     "output_type": "stream",
     "text": [
      "\u001b[33mWARNING: Package(s) not found: sklearn\u001b[0m\n"
     ]
    }
   ],
   "source": [
    "! pip show sklearn"
   ]
  },
  {
   "cell_type": "code",
   "execution_count": 8,
   "id": "b2d5d96e-7672-478b-a9ee-731e54a509dd",
   "metadata": {},
   "outputs": [
    {
     "name": "stdout",
     "output_type": "stream",
     "text": [
      "Collecting sklearn\n",
      "  Downloading sklearn-0.0.tar.gz (1.1 kB)\n",
      "Collecting scikit-learn\n",
      "  Downloading scikit_learn-1.0.1-cp39-cp39-macosx_10_13_x86_64.whl (8.0 MB)\n",
      "\u001b[K     |████████████████████████████████| 8.0 MB 6.6 MB/s eta 0:00:01\n",
      "\u001b[?25hCollecting threadpoolctl>=2.0.0\n",
      "  Downloading threadpoolctl-3.0.0-py3-none-any.whl (14 kB)\n",
      "Collecting joblib>=0.11\n",
      "  Downloading joblib-1.1.0-py2.py3-none-any.whl (306 kB)\n",
      "\u001b[K     |████████████████████████████████| 306 kB 38.0 MB/s eta 0:00:01\n",
      "\u001b[?25hRequirement already satisfied: numpy>=1.14.6 in /opt/anaconda3/envs/dev/lib/python3.9/site-packages (from scikit-learn->sklearn) (1.21.2)\n",
      "Collecting scipy>=1.1.0\n",
      "  Downloading scipy-1.7.1-cp39-cp39-macosx_10_9_x86_64.whl (32.8 MB)\n",
      "\u001b[K     |████████████████████████████████| 32.8 MB 18.8 MB/s eta 0:00:01\n",
      "\u001b[?25hBuilding wheels for collected packages: sklearn\n",
      "  Building wheel for sklearn (setup.py) ... \u001b[?25ldone\n",
      "\u001b[?25h  Created wheel for sklearn: filename=sklearn-0.0-py2.py3-none-any.whl size=1309 sha256=1ac2b824d33e866a702bfe2f1b7b9494c39d1bc7776c618f814044dc3a3480c1\n",
      "  Stored in directory: /Users/hillaryhwaga/Library/Caches/pip/wheels/e4/7b/98/b6466d71b8d738a0c547008b9eb39bf8676d1ff6ca4b22af1c\n",
      "Successfully built sklearn\n",
      "Installing collected packages: threadpoolctl, scipy, joblib, scikit-learn, sklearn\n",
      "Successfully installed joblib-1.1.0 scikit-learn-1.0.1 scipy-1.7.1 sklearn-0.0 threadpoolctl-3.0.0\n"
     ]
    }
   ],
   "source": [
    "! pip install sklearn"
   ]
  },
  {
   "cell_type": "code",
   "execution_count": 17,
   "id": "6e756fb0-42b3-45ef-9af3-74011c5abe46",
   "metadata": {},
   "outputs": [
    {
     "name": "stdout",
     "output_type": "stream",
     "text": [
      "Collecting hvplot\n",
      "  Downloading hvplot-0.7.3-py2.py3-none-any.whl (3.1 MB)\n",
      "\u001b[K     |████████████████████████████████| 3.1 MB 7.4 MB/s eta 0:00:01\n",
      "\u001b[?25hRequirement already satisfied: pandas in /opt/anaconda3/envs/dev/lib/python3.9/site-packages (from hvplot) (1.3.3)\n",
      "Collecting bokeh>=1.0.0\n",
      "  Downloading bokeh-2.4.1-py3-none-any.whl (18.5 MB)\n",
      "\u001b[K     |████████████████████████████████| 18.5 MB 56.8 MB/s eta 0:00:01\n",
      "\u001b[?25hCollecting holoviews>=1.11.0\n",
      "  Downloading holoviews-1.14.6-py3-none-any.whl (4.3 MB)\n",
      "\u001b[K     |████████████████████████████████| 4.3 MB 90.8 MB/s eta 0:00:01\n",
      "\u001b[?25hCollecting colorcet>=2\n",
      "  Using cached colorcet-2.0.6-py2.py3-none-any.whl (1.6 MB)\n",
      "Requirement already satisfied: numpy>=1.15 in /opt/anaconda3/envs/dev/lib/python3.9/site-packages (from hvplot) (1.21.2)\n",
      "Collecting typing-extensions>=3.10.0\n",
      "  Using cached typing_extensions-3.10.0.2-py3-none-any.whl (26 kB)\n",
      "Requirement already satisfied: pillow>=7.1.0 in /opt/anaconda3/envs/dev/lib/python3.9/site-packages (from bokeh>=1.0.0->hvplot) (8.4.0)\n",
      "Collecting PyYAML>=3.10\n",
      "  Downloading PyYAML-6.0-cp39-cp39-macosx_10_9_x86_64.whl (197 kB)\n",
      "\u001b[K     |████████████████████████████████| 197 kB 84.5 MB/s eta 0:00:01\n",
      "\u001b[?25hRequirement already satisfied: Jinja2>=2.9 in /opt/anaconda3/envs/dev/lib/python3.9/site-packages (from bokeh>=1.0.0->hvplot) (3.0.2)\n",
      "Requirement already satisfied: tornado>=5.1 in /opt/anaconda3/envs/dev/lib/python3.9/site-packages (from bokeh>=1.0.0->hvplot) (6.1)\n",
      "Requirement already satisfied: packaging>=16.8 in /opt/anaconda3/envs/dev/lib/python3.9/site-packages (from bokeh>=1.0.0->hvplot) (21.0)\n",
      "Collecting pyct>=0.4.4\n",
      "  Using cached pyct-0.4.8-py2.py3-none-any.whl (15 kB)\n",
      "Collecting param>=1.7.0\n",
      "  Downloading param-1.12.0-py2.py3-none-any.whl (85 kB)\n",
      "\u001b[K     |████████████████████████████████| 85 kB 29.6 MB/s eta 0:00:01\n",
      "\u001b[?25hCollecting panel>=0.8.0\n",
      "  Downloading panel-0.12.4-py2.py3-none-any.whl (12.9 MB)\n",
      "\u001b[K     |████████████████████████████████| 12.9 MB 154.0 MB/s eta 0:00:01\n",
      "\u001b[?25hCollecting pyviz-comms>=0.7.4\n",
      "  Using cached pyviz_comms-2.1.0-py2.py3-none-any.whl (40 kB)\n",
      "Requirement already satisfied: MarkupSafe>=2.0 in /opt/anaconda3/envs/dev/lib/python3.9/site-packages (from Jinja2>=2.9->bokeh>=1.0.0->hvplot) (2.0.1)\n",
      "Requirement already satisfied: pyparsing>=2.0.2 in /opt/anaconda3/envs/dev/lib/python3.9/site-packages (from packaging>=16.8->bokeh>=1.0.0->hvplot) (3.0.3)\n",
      "Requirement already satisfied: python-dateutil>=2.7.3 in /opt/anaconda3/envs/dev/lib/python3.9/site-packages (from pandas->hvplot) (2.8.2)\n",
      "Requirement already satisfied: pytz>=2017.3 in /opt/anaconda3/envs/dev/lib/python3.9/site-packages (from pandas->hvplot) (2021.3)\n",
      "Collecting tqdm>=4.48.0\n",
      "  Downloading tqdm-4.62.3-py2.py3-none-any.whl (76 kB)\n",
      "\u001b[K     |████████████████████████████████| 76 kB 25.1 MB/s eta 0:00:01\n",
      "\u001b[?25hRequirement already satisfied: bleach in /opt/anaconda3/envs/dev/lib/python3.9/site-packages (from panel>=0.8.0->holoviews>=1.11.0->hvplot) (4.1.0)\n",
      "Collecting markdown\n",
      "  Using cached Markdown-3.3.4-py3-none-any.whl (97 kB)\n",
      "Requirement already satisfied: requests in /opt/anaconda3/envs/dev/lib/python3.9/site-packages (from panel>=0.8.0->holoviews>=1.11.0->hvplot) (2.26.0)\n",
      "Requirement already satisfied: six>=1.5 in /opt/anaconda3/envs/dev/lib/python3.9/site-packages (from python-dateutil>=2.7.3->pandas->hvplot) (1.16.0)\n",
      "Requirement already satisfied: webencodings in /opt/anaconda3/envs/dev/lib/python3.9/site-packages (from bleach->panel>=0.8.0->holoviews>=1.11.0->hvplot) (0.5.1)\n",
      "Requirement already satisfied: idna<4,>=2.5 in /opt/anaconda3/envs/dev/lib/python3.9/site-packages (from requests->panel>=0.8.0->holoviews>=1.11.0->hvplot) (3.3)\n",
      "Requirement already satisfied: certifi>=2017.4.17 in /opt/anaconda3/envs/dev/lib/python3.9/site-packages (from requests->panel>=0.8.0->holoviews>=1.11.0->hvplot) (2021.10.8)\n",
      "Requirement already satisfied: urllib3<1.27,>=1.21.1 in /opt/anaconda3/envs/dev/lib/python3.9/site-packages (from requests->panel>=0.8.0->holoviews>=1.11.0->hvplot) (1.26.7)\n",
      "Requirement already satisfied: charset-normalizer~=2.0.0 in /opt/anaconda3/envs/dev/lib/python3.9/site-packages (from requests->panel>=0.8.0->holoviews>=1.11.0->hvplot) (2.0.7)\n",
      "Installing collected packages: typing-extensions, PyYAML, param, tqdm, pyviz-comms, pyct, markdown, bokeh, panel, colorcet, holoviews, hvplot\n",
      "Successfully installed PyYAML-6.0 bokeh-2.4.1 colorcet-2.0.6 holoviews-1.14.6 hvplot-0.7.3 markdown-3.3.4 panel-0.12.4 param-1.12.0 pyct-0.4.8 pyviz-comms-2.1.0 tqdm-4.62.3 typing-extensions-3.10.0.2\n"
     ]
    }
   ],
   "source": [
    "! pip install hvplot"
   ]
  },
  {
   "cell_type": "code",
   "execution_count": 28,
   "id": "66312b05-27b8-45fe-99e9-e5bdeffa0e36",
   "metadata": {},
   "outputs": [
    {
     "name": "stdout",
     "output_type": "stream",
     "text": [
      "Requirement already satisfied: Holoviews in /opt/anaconda3/envs/dev/lib/python3.9/site-packages (1.14.6)\n",
      "Requirement already satisfied: pyviz-comms>=0.7.4 in /opt/anaconda3/envs/dev/lib/python3.9/site-packages (from Holoviews) (2.1.0)\n",
      "Requirement already satisfied: pandas>=0.20.0 in /opt/anaconda3/envs/dev/lib/python3.9/site-packages (from Holoviews) (1.3.3)\n",
      "Requirement already satisfied: panel>=0.8.0 in /opt/anaconda3/envs/dev/lib/python3.9/site-packages (from Holoviews) (0.12.4)\n",
      "Requirement already satisfied: colorcet in /opt/anaconda3/envs/dev/lib/python3.9/site-packages (from Holoviews) (2.0.6)\n",
      "Requirement already satisfied: param<2.0,>=1.9.3 in /opt/anaconda3/envs/dev/lib/python3.9/site-packages (from Holoviews) (1.12.0)\n",
      "Requirement already satisfied: numpy>=1.0 in /opt/anaconda3/envs/dev/lib/python3.9/site-packages (from Holoviews) (1.21.2)\n",
      "Requirement already satisfied: python-dateutil>=2.7.3 in /opt/anaconda3/envs/dev/lib/python3.9/site-packages (from pandas>=0.20.0->Holoviews) (2.8.2)\n",
      "Requirement already satisfied: pytz>=2017.3 in /opt/anaconda3/envs/dev/lib/python3.9/site-packages (from pandas>=0.20.0->Holoviews) (2021.3)\n",
      "Requirement already satisfied: markdown in /opt/anaconda3/envs/dev/lib/python3.9/site-packages (from panel>=0.8.0->Holoviews) (3.3.4)\n",
      "Requirement already satisfied: pyct>=0.4.4 in /opt/anaconda3/envs/dev/lib/python3.9/site-packages (from panel>=0.8.0->Holoviews) (0.4.8)\n",
      "Requirement already satisfied: requests in /opt/anaconda3/envs/dev/lib/python3.9/site-packages (from panel>=0.8.0->Holoviews) (2.26.0)\n",
      "Requirement already satisfied: bleach in /opt/anaconda3/envs/dev/lib/python3.9/site-packages (from panel>=0.8.0->Holoviews) (4.1.0)\n",
      "Requirement already satisfied: bokeh<2.5.0,>=2.4.0 in /opt/anaconda3/envs/dev/lib/python3.9/site-packages (from panel>=0.8.0->Holoviews) (2.4.1)\n",
      "Requirement already satisfied: tqdm>=4.48.0 in /opt/anaconda3/envs/dev/lib/python3.9/site-packages (from panel>=0.8.0->Holoviews) (4.62.3)\n",
      "Requirement already satisfied: Jinja2>=2.9 in /opt/anaconda3/envs/dev/lib/python3.9/site-packages (from bokeh<2.5.0,>=2.4.0->panel>=0.8.0->Holoviews) (3.0.2)\n",
      "Requirement already satisfied: typing-extensions>=3.10.0 in /opt/anaconda3/envs/dev/lib/python3.9/site-packages (from bokeh<2.5.0,>=2.4.0->panel>=0.8.0->Holoviews) (3.10.0.2)\n",
      "Requirement already satisfied: packaging>=16.8 in /opt/anaconda3/envs/dev/lib/python3.9/site-packages (from bokeh<2.5.0,>=2.4.0->panel>=0.8.0->Holoviews) (21.0)\n",
      "Requirement already satisfied: tornado>=5.1 in /opt/anaconda3/envs/dev/lib/python3.9/site-packages (from bokeh<2.5.0,>=2.4.0->panel>=0.8.0->Holoviews) (6.1)\n",
      "Requirement already satisfied: PyYAML>=3.10 in /opt/anaconda3/envs/dev/lib/python3.9/site-packages (from bokeh<2.5.0,>=2.4.0->panel>=0.8.0->Holoviews) (6.0)\n",
      "Requirement already satisfied: pillow>=7.1.0 in /opt/anaconda3/envs/dev/lib/python3.9/site-packages (from bokeh<2.5.0,>=2.4.0->panel>=0.8.0->Holoviews) (8.4.0)\n",
      "Requirement already satisfied: MarkupSafe>=2.0 in /opt/anaconda3/envs/dev/lib/python3.9/site-packages (from Jinja2>=2.9->bokeh<2.5.0,>=2.4.0->panel>=0.8.0->Holoviews) (2.0.1)\n",
      "Requirement already satisfied: pyparsing>=2.0.2 in /opt/anaconda3/envs/dev/lib/python3.9/site-packages (from packaging>=16.8->bokeh<2.5.0,>=2.4.0->panel>=0.8.0->Holoviews) (3.0.3)\n",
      "Requirement already satisfied: six>=1.5 in /opt/anaconda3/envs/dev/lib/python3.9/site-packages (from python-dateutil>=2.7.3->pandas>=0.20.0->Holoviews) (1.16.0)\n",
      "Requirement already satisfied: webencodings in /opt/anaconda3/envs/dev/lib/python3.9/site-packages (from bleach->panel>=0.8.0->Holoviews) (0.5.1)\n",
      "Requirement already satisfied: charset-normalizer~=2.0.0 in /opt/anaconda3/envs/dev/lib/python3.9/site-packages (from requests->panel>=0.8.0->Holoviews) (2.0.7)\n",
      "Requirement already satisfied: certifi>=2017.4.17 in /opt/anaconda3/envs/dev/lib/python3.9/site-packages (from requests->panel>=0.8.0->Holoviews) (2021.10.8)\n",
      "Requirement already satisfied: urllib3<1.27,>=1.21.1 in /opt/anaconda3/envs/dev/lib/python3.9/site-packages (from requests->panel>=0.8.0->Holoviews) (1.26.7)\n",
      "Requirement already satisfied: idna<4,>=2.5 in /opt/anaconda3/envs/dev/lib/python3.9/site-packages (from requests->panel>=0.8.0->Holoviews) (3.3)\n"
     ]
    }
   ],
   "source": [
    "! pip install Holoviews"
   ]
  },
  {
   "cell_type": "code",
   "execution_count": 122,
   "id": "6b180cb8-c4c0-4010-91a0-9f681ce9438c",
   "metadata": {
    "tags": []
   },
   "outputs": [],
   "source": [
    "# Imports\n",
    "import pandas as pd\n",
    "import holoviews as hv\n",
    "import hvplot\n",
    "import hvplot.pandas\n",
    "\n",
    "import numpy as np\n",
    "import os\n",
    "\n",
    "import matplotlib.pyplot as plt\n",
    "%matplotlib inline"
   ]
  },
  {
   "cell_type": "code",
   "execution_count": 123,
   "id": "3a5dbe0e-c74c-4416-916f-811fdc46a9af",
   "metadata": {},
   "outputs": [],
   "source": [
    "import requests\n",
    "import json\n",
    "import yfinance as yf\n",
    "\n",
    "from datetime import datetime\n",
    "from sklearn.linear_model import LinearRegression\n",
    "from pathlib import Path"
   ]
  },
  {
   "cell_type": "markdown",
   "id": "e5930ce9-bac4-439a-ab93-6d3b6dafb313",
   "metadata": {},
   "source": [
    "## Schwab 2040"
   ]
  },
  {
   "cell_type": "code",
   "execution_count": 124,
   "id": "4afe8bb9-ab8a-466c-a105-1fa2eecd5c79",
   "metadata": {},
   "outputs": [
    {
     "data": {
      "text/html": [
       "<div>\n",
       "<style scoped>\n",
       "    .dataframe tbody tr th:only-of-type {\n",
       "        vertical-align: middle;\n",
       "    }\n",
       "\n",
       "    .dataframe tbody tr th {\n",
       "        vertical-align: top;\n",
       "    }\n",
       "\n",
       "    .dataframe thead th {\n",
       "        text-align: right;\n",
       "    }\n",
       "</style>\n",
       "<table border=\"1\" class=\"dataframe\">\n",
       "  <thead>\n",
       "    <tr style=\"text-align: right;\">\n",
       "      <th></th>\n",
       "      <th>Risk Ratio</th>\n",
       "      <th>(SWERX) 3 Year</th>\n",
       "      <th>Category Ave.</th>\n",
       "      <th>(SWERX) 5 Year</th>\n",
       "      <th>Category Ave. .1</th>\n",
       "      <th>(SWERX) 10 Year</th>\n",
       "      <th>Category Ave. .2</th>\n",
       "    </tr>\n",
       "  </thead>\n",
       "  <tbody>\n",
       "    <tr>\n",
       "      <th>0</th>\n",
       "      <td>Alpha</td>\n",
       "      <td>-2.44</td>\n",
       "      <td>-0.01</td>\n",
       "      <td>-0.92</td>\n",
       "      <td>-0.01</td>\n",
       "      <td>-0.79</td>\n",
       "      <td>-0.01</td>\n",
       "    </tr>\n",
       "    <tr>\n",
       "      <th>1</th>\n",
       "      <td>Beta</td>\n",
       "      <td>1.38</td>\n",
       "      <td>0.01</td>\n",
       "      <td>1.38</td>\n",
       "      <td>0.01</td>\n",
       "      <td>1.42</td>\n",
       "      <td>0.01</td>\n",
       "    </tr>\n",
       "    <tr>\n",
       "      <th>2</th>\n",
       "      <td>R-squared</td>\n",
       "      <td>98.70</td>\n",
       "      <td>0.98</td>\n",
       "      <td>98.36</td>\n",
       "      <td>0.98</td>\n",
       "      <td>96.79</td>\n",
       "      <td>0.97</td>\n",
       "    </tr>\n",
       "    <tr>\n",
       "      <th>3</th>\n",
       "      <td>Std. dv</td>\n",
       "      <td>15.79</td>\n",
       "      <td>12.75</td>\n",
       "      <td>12.75</td>\n",
       "      <td>0.13</td>\n",
       "      <td>12.26</td>\n",
       "      <td>0.12</td>\n",
       "    </tr>\n",
       "    <tr>\n",
       "      <th>4</th>\n",
       "      <td>Sharpe Ratio</td>\n",
       "      <td>0.73</td>\n",
       "      <td>0.91</td>\n",
       "      <td>0.91</td>\n",
       "      <td>0.01</td>\n",
       "      <td>0.80</td>\n",
       "      <td>0.01</td>\n",
       "    </tr>\n",
       "  </tbody>\n",
       "</table>\n",
       "</div>"
      ],
      "text/plain": [
       "     Risk Ratio  (SWERX) 3 Year  Category Ave.   (SWERX) 5 Year  \\\n",
       "0         Alpha           -2.44           -0.01           -0.92   \n",
       "1          Beta            1.38            0.01            1.38   \n",
       "2     R-squared           98.70            0.98           98.36   \n",
       "3       Std. dv           15.79           12.75           12.75   \n",
       "4  Sharpe Ratio            0.73            0.91            0.91   \n",
       "\n",
       "   Category Ave. .1  (SWERX) 10 Year  Category Ave. .2  \n",
       "0             -0.01            -0.79             -0.01  \n",
       "1              0.01             1.42              0.01  \n",
       "2              0.98            96.79              0.97  \n",
       "3              0.13            12.26              0.12  \n",
       "4              0.01             0.80              0.01  "
      ]
     },
     "execution_count": 124,
     "metadata": {},
     "output_type": "execute_result"
    }
   ],
   "source": [
    "# Importing Schwab 2040 csv\n",
    "\n",
    "file_path = Path(\"SWERX_2040.csv\")\n",
    "swerx_2040 = pd.read_csv(file_path)\n",
    "\n",
    "swerx_2040.drop(columns = [\"Index\"], axis = 1)"
   ]
  },
  {
   "cell_type": "code",
   "execution_count": 127,
   "id": "3d6ff372-72f5-473a-b76a-c11b4947f66f",
   "metadata": {},
   "outputs": [],
   "source": [
    "# Creating a Stock function while displaying the Adjusted Close Column\n",
    "\n",
    "def stock_pull(ticker):\n",
    "    \n",
    "    ticker = yf.Ticker(ticker)\n",
    "    ticker_hist = ticker.history(period = \"max\")\n",
    "    ticker_hist = ticker_hist.drop(columns = [\"Open\", \"High\", \"Low\", \"Close\"], axis =1)\n",
    "    ticker_hist['Adj Close'] = ticker_hist.loc['Adj Close']\n",
    "    \n",
    "    return ticker_hist"
   ]
  },
  {
   "cell_type": "code",
   "execution_count": 128,
   "id": "fcda825e-1298-4a68-b683-259ceeabd771",
   "metadata": {},
   "outputs": [
    {
     "ename": "KeyError",
     "evalue": "'Adjusted Close'",
     "output_type": "error",
     "traceback": [
      "\u001b[0;31m---------------------------------------------------------------------------\u001b[0m",
      "\u001b[0;31mParserError\u001b[0m                               Traceback (most recent call last)",
      "\u001b[0;32m/opt/anaconda3/envs/dev/lib/python3.9/site-packages/pandas/_libs/tslibs/conversion.pyx\u001b[0m in \u001b[0;36mpandas._libs.tslibs.conversion._convert_str_to_tsobject\u001b[0;34m()\u001b[0m\n",
      "\u001b[0;32m/opt/anaconda3/envs/dev/lib/python3.9/site-packages/pandas/_libs/tslibs/parsing.pyx\u001b[0m in \u001b[0;36mpandas._libs.tslibs.parsing.parse_datetime_string\u001b[0;34m()\u001b[0m\n",
      "\u001b[0;32m/opt/anaconda3/envs/dev/lib/python3.9/site-packages/dateutil/parser/_parser.py\u001b[0m in \u001b[0;36mparse\u001b[0;34m(timestr, parserinfo, **kwargs)\u001b[0m\n\u001b[1;32m   1367\u001b[0m     \u001b[0;32melse\u001b[0m\u001b[0;34m:\u001b[0m\u001b[0;34m\u001b[0m\u001b[0;34m\u001b[0m\u001b[0m\n\u001b[0;32m-> 1368\u001b[0;31m         \u001b[0;32mreturn\u001b[0m \u001b[0mDEFAULTPARSER\u001b[0m\u001b[0;34m.\u001b[0m\u001b[0mparse\u001b[0m\u001b[0;34m(\u001b[0m\u001b[0mtimestr\u001b[0m\u001b[0;34m,\u001b[0m \u001b[0;34m**\u001b[0m\u001b[0mkwargs\u001b[0m\u001b[0;34m)\u001b[0m\u001b[0;34m\u001b[0m\u001b[0;34m\u001b[0m\u001b[0m\n\u001b[0m\u001b[1;32m   1369\u001b[0m \u001b[0;34m\u001b[0m\u001b[0m\n",
      "\u001b[0;32m/opt/anaconda3/envs/dev/lib/python3.9/site-packages/dateutil/parser/_parser.py\u001b[0m in \u001b[0;36mparse\u001b[0;34m(self, timestr, default, ignoretz, tzinfos, **kwargs)\u001b[0m\n\u001b[1;32m    642\u001b[0m         \u001b[0;32mif\u001b[0m \u001b[0mres\u001b[0m \u001b[0;32mis\u001b[0m \u001b[0;32mNone\u001b[0m\u001b[0;34m:\u001b[0m\u001b[0;34m\u001b[0m\u001b[0;34m\u001b[0m\u001b[0m\n\u001b[0;32m--> 643\u001b[0;31m             \u001b[0;32mraise\u001b[0m \u001b[0mParserError\u001b[0m\u001b[0;34m(\u001b[0m\u001b[0;34m\"Unknown string format: %s\"\u001b[0m\u001b[0;34m,\u001b[0m \u001b[0mtimestr\u001b[0m\u001b[0;34m)\u001b[0m\u001b[0;34m\u001b[0m\u001b[0;34m\u001b[0m\u001b[0m\n\u001b[0m\u001b[1;32m    644\u001b[0m \u001b[0;34m\u001b[0m\u001b[0m\n",
      "\u001b[0;31mParserError\u001b[0m: Unknown string format: Adjusted Close",
      "\nDuring handling of the above exception, another exception occurred:\n",
      "\u001b[0;31mValueError\u001b[0m                                Traceback (most recent call last)",
      "\u001b[0;32m/opt/anaconda3/envs/dev/lib/python3.9/site-packages/pandas/core/indexes/datetimes.py\u001b[0m in \u001b[0;36mget_loc\u001b[0;34m(self, key, method, tolerance)\u001b[0m\n\u001b[1;32m    680\u001b[0m             \u001b[0;32mtry\u001b[0m\u001b[0;34m:\u001b[0m\u001b[0;34m\u001b[0m\u001b[0;34m\u001b[0m\u001b[0m\n\u001b[0;32m--> 681\u001b[0;31m                 \u001b[0mkey\u001b[0m \u001b[0;34m=\u001b[0m \u001b[0mself\u001b[0m\u001b[0;34m.\u001b[0m\u001b[0m_maybe_cast_for_get_loc\u001b[0m\u001b[0;34m(\u001b[0m\u001b[0mkey\u001b[0m\u001b[0;34m)\u001b[0m\u001b[0;34m\u001b[0m\u001b[0;34m\u001b[0m\u001b[0m\n\u001b[0m\u001b[1;32m    682\u001b[0m             \u001b[0;32mexcept\u001b[0m \u001b[0mValueError\u001b[0m \u001b[0;32mas\u001b[0m \u001b[0merr\u001b[0m\u001b[0;34m:\u001b[0m\u001b[0;34m\u001b[0m\u001b[0;34m\u001b[0m\u001b[0m\n",
      "\u001b[0;32m/opt/anaconda3/envs/dev/lib/python3.9/site-packages/pandas/core/indexes/datetimes.py\u001b[0m in \u001b[0;36m_maybe_cast_for_get_loc\u001b[0;34m(self, key)\u001b[0m\n\u001b[1;32m    708\u001b[0m         \u001b[0;31m# needed to localize naive datetimes or dates (GH 35690)\u001b[0m\u001b[0;34m\u001b[0m\u001b[0;34m\u001b[0m\u001b[0m\n\u001b[0;32m--> 709\u001b[0;31m         \u001b[0mkey\u001b[0m \u001b[0;34m=\u001b[0m \u001b[0mTimestamp\u001b[0m\u001b[0;34m(\u001b[0m\u001b[0mkey\u001b[0m\u001b[0;34m)\u001b[0m\u001b[0;34m\u001b[0m\u001b[0;34m\u001b[0m\u001b[0m\n\u001b[0m\u001b[1;32m    710\u001b[0m         \u001b[0;32mif\u001b[0m \u001b[0mkey\u001b[0m\u001b[0;34m.\u001b[0m\u001b[0mtzinfo\u001b[0m \u001b[0;32mis\u001b[0m \u001b[0;32mNone\u001b[0m\u001b[0;34m:\u001b[0m\u001b[0;34m\u001b[0m\u001b[0;34m\u001b[0m\u001b[0m\n",
      "\u001b[0;32m/opt/anaconda3/envs/dev/lib/python3.9/site-packages/pandas/_libs/tslibs/timestamps.pyx\u001b[0m in \u001b[0;36mpandas._libs.tslibs.timestamps.Timestamp.__new__\u001b[0;34m()\u001b[0m\n",
      "\u001b[0;32m/opt/anaconda3/envs/dev/lib/python3.9/site-packages/pandas/_libs/tslibs/conversion.pyx\u001b[0m in \u001b[0;36mpandas._libs.tslibs.conversion.convert_to_tsobject\u001b[0;34m()\u001b[0m\n",
      "\u001b[0;32m/opt/anaconda3/envs/dev/lib/python3.9/site-packages/pandas/_libs/tslibs/conversion.pyx\u001b[0m in \u001b[0;36mpandas._libs.tslibs.conversion._convert_str_to_tsobject\u001b[0;34m()\u001b[0m\n",
      "\u001b[0;31mValueError\u001b[0m: could not convert string to Timestamp",
      "\nThe above exception was the direct cause of the following exception:\n",
      "\u001b[0;31mKeyError\u001b[0m                                  Traceback (most recent call last)",
      "\u001b[0;32m/var/folders/64/blrcz3nj1_zfkwx95b73kzbw0000gn/T/ipykernel_30741/2257886477.py\u001b[0m in \u001b[0;36m<module>\u001b[0;34m\u001b[0m\n\u001b[0;32m----> 1\u001b[0;31m \u001b[0mswerx_hist\u001b[0m \u001b[0;34m=\u001b[0m \u001b[0mstock_pull\u001b[0m\u001b[0;34m(\u001b[0m\u001b[0;34m\"SWERX\"\u001b[0m\u001b[0;34m)\u001b[0m\u001b[0;34m\u001b[0m\u001b[0;34m\u001b[0m\u001b[0m\n\u001b[0m\u001b[1;32m      2\u001b[0m \u001b[0mswerx_hist\u001b[0m\u001b[0;34m\u001b[0m\u001b[0;34m\u001b[0m\u001b[0m\n",
      "\u001b[0;32m/var/folders/64/blrcz3nj1_zfkwx95b73kzbw0000gn/T/ipykernel_30741/1142628339.py\u001b[0m in \u001b[0;36mstock_pull\u001b[0;34m(ticker)\u001b[0m\n\u001b[1;32m      6\u001b[0m     \u001b[0mticker_hist\u001b[0m \u001b[0;34m=\u001b[0m \u001b[0mticker\u001b[0m\u001b[0;34m.\u001b[0m\u001b[0mhistory\u001b[0m\u001b[0;34m(\u001b[0m\u001b[0mperiod\u001b[0m \u001b[0;34m=\u001b[0m \u001b[0;34m\"max\"\u001b[0m\u001b[0;34m)\u001b[0m\u001b[0;34m\u001b[0m\u001b[0;34m\u001b[0m\u001b[0m\n\u001b[1;32m      7\u001b[0m     \u001b[0mticker_hist\u001b[0m \u001b[0;34m=\u001b[0m \u001b[0mticker_hist\u001b[0m\u001b[0;34m.\u001b[0m\u001b[0mdrop\u001b[0m\u001b[0;34m(\u001b[0m\u001b[0mcolumns\u001b[0m \u001b[0;34m=\u001b[0m \u001b[0;34m[\u001b[0m\u001b[0;34m\"Open\"\u001b[0m\u001b[0;34m,\u001b[0m \u001b[0;34m\"High\"\u001b[0m\u001b[0;34m,\u001b[0m \u001b[0;34m\"Low\"\u001b[0m\u001b[0;34m,\u001b[0m \u001b[0;34m\"Close\"\u001b[0m\u001b[0;34m]\u001b[0m\u001b[0;34m,\u001b[0m \u001b[0maxis\u001b[0m \u001b[0;34m=\u001b[0m\u001b[0;36m1\u001b[0m\u001b[0;34m)\u001b[0m\u001b[0;34m\u001b[0m\u001b[0;34m\u001b[0m\u001b[0m\n\u001b[0;32m----> 8\u001b[0;31m     \u001b[0mticker_hist\u001b[0m\u001b[0;34m[\u001b[0m\u001b[0;34m'Adjusted Close'\u001b[0m\u001b[0;34m]\u001b[0m \u001b[0;34m=\u001b[0m \u001b[0mticker_hist\u001b[0m\u001b[0;34m.\u001b[0m\u001b[0mloc\u001b[0m\u001b[0;34m[\u001b[0m\u001b[0;34m'Adjusted Close'\u001b[0m\u001b[0;34m]\u001b[0m\u001b[0;34m\u001b[0m\u001b[0;34m\u001b[0m\u001b[0m\n\u001b[0m\u001b[1;32m      9\u001b[0m \u001b[0;34m\u001b[0m\u001b[0m\n\u001b[1;32m     10\u001b[0m     \u001b[0;32mreturn\u001b[0m \u001b[0mticker_hist\u001b[0m\u001b[0;34m\u001b[0m\u001b[0;34m\u001b[0m\u001b[0m\n",
      "\u001b[0;32m/opt/anaconda3/envs/dev/lib/python3.9/site-packages/pandas/core/indexing.py\u001b[0m in \u001b[0;36m__getitem__\u001b[0;34m(self, key)\u001b[0m\n\u001b[1;32m    929\u001b[0m \u001b[0;34m\u001b[0m\u001b[0m\n\u001b[1;32m    930\u001b[0m             \u001b[0mmaybe_callable\u001b[0m \u001b[0;34m=\u001b[0m \u001b[0mcom\u001b[0m\u001b[0;34m.\u001b[0m\u001b[0mapply_if_callable\u001b[0m\u001b[0;34m(\u001b[0m\u001b[0mkey\u001b[0m\u001b[0;34m,\u001b[0m \u001b[0mself\u001b[0m\u001b[0;34m.\u001b[0m\u001b[0mobj\u001b[0m\u001b[0;34m)\u001b[0m\u001b[0;34m\u001b[0m\u001b[0;34m\u001b[0m\u001b[0m\n\u001b[0;32m--> 931\u001b[0;31m             \u001b[0;32mreturn\u001b[0m \u001b[0mself\u001b[0m\u001b[0;34m.\u001b[0m\u001b[0m_getitem_axis\u001b[0m\u001b[0;34m(\u001b[0m\u001b[0mmaybe_callable\u001b[0m\u001b[0;34m,\u001b[0m \u001b[0maxis\u001b[0m\u001b[0;34m=\u001b[0m\u001b[0maxis\u001b[0m\u001b[0;34m)\u001b[0m\u001b[0;34m\u001b[0m\u001b[0;34m\u001b[0m\u001b[0m\n\u001b[0m\u001b[1;32m    932\u001b[0m \u001b[0;34m\u001b[0m\u001b[0m\n\u001b[1;32m    933\u001b[0m     \u001b[0;32mdef\u001b[0m \u001b[0m_is_scalar_access\u001b[0m\u001b[0;34m(\u001b[0m\u001b[0mself\u001b[0m\u001b[0;34m,\u001b[0m \u001b[0mkey\u001b[0m\u001b[0;34m:\u001b[0m \u001b[0mtuple\u001b[0m\u001b[0;34m)\u001b[0m\u001b[0;34m:\u001b[0m\u001b[0;34m\u001b[0m\u001b[0;34m\u001b[0m\u001b[0m\n",
      "\u001b[0;32m/opt/anaconda3/envs/dev/lib/python3.9/site-packages/pandas/core/indexing.py\u001b[0m in \u001b[0;36m_getitem_axis\u001b[0;34m(self, key, axis)\u001b[0m\n\u001b[1;32m   1162\u001b[0m         \u001b[0;31m# fall thru to straight lookup\u001b[0m\u001b[0;34m\u001b[0m\u001b[0;34m\u001b[0m\u001b[0m\n\u001b[1;32m   1163\u001b[0m         \u001b[0mself\u001b[0m\u001b[0;34m.\u001b[0m\u001b[0m_validate_key\u001b[0m\u001b[0;34m(\u001b[0m\u001b[0mkey\u001b[0m\u001b[0;34m,\u001b[0m \u001b[0maxis\u001b[0m\u001b[0;34m)\u001b[0m\u001b[0;34m\u001b[0m\u001b[0;34m\u001b[0m\u001b[0m\n\u001b[0;32m-> 1164\u001b[0;31m         \u001b[0;32mreturn\u001b[0m \u001b[0mself\u001b[0m\u001b[0;34m.\u001b[0m\u001b[0m_get_label\u001b[0m\u001b[0;34m(\u001b[0m\u001b[0mkey\u001b[0m\u001b[0;34m,\u001b[0m \u001b[0maxis\u001b[0m\u001b[0;34m=\u001b[0m\u001b[0maxis\u001b[0m\u001b[0;34m)\u001b[0m\u001b[0;34m\u001b[0m\u001b[0;34m\u001b[0m\u001b[0m\n\u001b[0m\u001b[1;32m   1165\u001b[0m \u001b[0;34m\u001b[0m\u001b[0m\n\u001b[1;32m   1166\u001b[0m     \u001b[0;32mdef\u001b[0m \u001b[0m_get_slice_axis\u001b[0m\u001b[0;34m(\u001b[0m\u001b[0mself\u001b[0m\u001b[0;34m,\u001b[0m \u001b[0mslice_obj\u001b[0m\u001b[0;34m:\u001b[0m \u001b[0mslice\u001b[0m\u001b[0;34m,\u001b[0m \u001b[0maxis\u001b[0m\u001b[0;34m:\u001b[0m \u001b[0mint\u001b[0m\u001b[0;34m)\u001b[0m\u001b[0;34m:\u001b[0m\u001b[0;34m\u001b[0m\u001b[0;34m\u001b[0m\u001b[0m\n",
      "\u001b[0;32m/opt/anaconda3/envs/dev/lib/python3.9/site-packages/pandas/core/indexing.py\u001b[0m in \u001b[0;36m_get_label\u001b[0;34m(self, label, axis)\u001b[0m\n\u001b[1;32m   1111\u001b[0m     \u001b[0;32mdef\u001b[0m \u001b[0m_get_label\u001b[0m\u001b[0;34m(\u001b[0m\u001b[0mself\u001b[0m\u001b[0;34m,\u001b[0m \u001b[0mlabel\u001b[0m\u001b[0;34m,\u001b[0m \u001b[0maxis\u001b[0m\u001b[0;34m:\u001b[0m \u001b[0mint\u001b[0m\u001b[0;34m)\u001b[0m\u001b[0;34m:\u001b[0m\u001b[0;34m\u001b[0m\u001b[0;34m\u001b[0m\u001b[0m\n\u001b[1;32m   1112\u001b[0m         \u001b[0;31m# GH#5667 this will fail if the label is not present in the axis.\u001b[0m\u001b[0;34m\u001b[0m\u001b[0;34m\u001b[0m\u001b[0m\n\u001b[0;32m-> 1113\u001b[0;31m         \u001b[0;32mreturn\u001b[0m \u001b[0mself\u001b[0m\u001b[0;34m.\u001b[0m\u001b[0mobj\u001b[0m\u001b[0;34m.\u001b[0m\u001b[0mxs\u001b[0m\u001b[0;34m(\u001b[0m\u001b[0mlabel\u001b[0m\u001b[0;34m,\u001b[0m \u001b[0maxis\u001b[0m\u001b[0;34m=\u001b[0m\u001b[0maxis\u001b[0m\u001b[0;34m)\u001b[0m\u001b[0;34m\u001b[0m\u001b[0;34m\u001b[0m\u001b[0m\n\u001b[0m\u001b[1;32m   1114\u001b[0m \u001b[0;34m\u001b[0m\u001b[0m\n\u001b[1;32m   1115\u001b[0m     \u001b[0;32mdef\u001b[0m \u001b[0m_handle_lowerdim_multi_index_axis0\u001b[0m\u001b[0;34m(\u001b[0m\u001b[0mself\u001b[0m\u001b[0;34m,\u001b[0m \u001b[0mtup\u001b[0m\u001b[0;34m:\u001b[0m \u001b[0mtuple\u001b[0m\u001b[0;34m)\u001b[0m\u001b[0;34m:\u001b[0m\u001b[0;34m\u001b[0m\u001b[0;34m\u001b[0m\u001b[0m\n",
      "\u001b[0;32m/opt/anaconda3/envs/dev/lib/python3.9/site-packages/pandas/core/generic.py\u001b[0m in \u001b[0;36mxs\u001b[0;34m(self, key, axis, level, drop_level)\u001b[0m\n\u001b[1;32m   3774\u001b[0m                 \u001b[0;32mraise\u001b[0m \u001b[0mTypeError\u001b[0m\u001b[0;34m(\u001b[0m\u001b[0;34mf\"Expected label or tuple of labels, got {key}\"\u001b[0m\u001b[0;34m)\u001b[0m \u001b[0;32mfrom\u001b[0m \u001b[0me\u001b[0m\u001b[0;34m\u001b[0m\u001b[0;34m\u001b[0m\u001b[0m\n\u001b[1;32m   3775\u001b[0m         \u001b[0;32melse\u001b[0m\u001b[0;34m:\u001b[0m\u001b[0;34m\u001b[0m\u001b[0;34m\u001b[0m\u001b[0m\n\u001b[0;32m-> 3776\u001b[0;31m             \u001b[0mloc\u001b[0m \u001b[0;34m=\u001b[0m \u001b[0mindex\u001b[0m\u001b[0;34m.\u001b[0m\u001b[0mget_loc\u001b[0m\u001b[0;34m(\u001b[0m\u001b[0mkey\u001b[0m\u001b[0;34m)\u001b[0m\u001b[0;34m\u001b[0m\u001b[0;34m\u001b[0m\u001b[0m\n\u001b[0m\u001b[1;32m   3777\u001b[0m \u001b[0;34m\u001b[0m\u001b[0m\n\u001b[1;32m   3778\u001b[0m             \u001b[0;32mif\u001b[0m \u001b[0misinstance\u001b[0m\u001b[0;34m(\u001b[0m\u001b[0mloc\u001b[0m\u001b[0;34m,\u001b[0m \u001b[0mnp\u001b[0m\u001b[0;34m.\u001b[0m\u001b[0mndarray\u001b[0m\u001b[0;34m)\u001b[0m\u001b[0;34m:\u001b[0m\u001b[0;34m\u001b[0m\u001b[0;34m\u001b[0m\u001b[0m\n",
      "\u001b[0;32m/opt/anaconda3/envs/dev/lib/python3.9/site-packages/pandas/core/indexes/datetimes.py\u001b[0m in \u001b[0;36mget_loc\u001b[0;34m(self, key, method, tolerance)\u001b[0m\n\u001b[1;32m    681\u001b[0m                 \u001b[0mkey\u001b[0m \u001b[0;34m=\u001b[0m \u001b[0mself\u001b[0m\u001b[0;34m.\u001b[0m\u001b[0m_maybe_cast_for_get_loc\u001b[0m\u001b[0;34m(\u001b[0m\u001b[0mkey\u001b[0m\u001b[0;34m)\u001b[0m\u001b[0;34m\u001b[0m\u001b[0;34m\u001b[0m\u001b[0m\n\u001b[1;32m    682\u001b[0m             \u001b[0;32mexcept\u001b[0m \u001b[0mValueError\u001b[0m \u001b[0;32mas\u001b[0m \u001b[0merr\u001b[0m\u001b[0;34m:\u001b[0m\u001b[0;34m\u001b[0m\u001b[0;34m\u001b[0m\u001b[0m\n\u001b[0;32m--> 683\u001b[0;31m                 \u001b[0;32mraise\u001b[0m \u001b[0mKeyError\u001b[0m\u001b[0;34m(\u001b[0m\u001b[0mkey\u001b[0m\u001b[0;34m)\u001b[0m \u001b[0;32mfrom\u001b[0m \u001b[0merr\u001b[0m\u001b[0;34m\u001b[0m\u001b[0;34m\u001b[0m\u001b[0m\n\u001b[0m\u001b[1;32m    684\u001b[0m \u001b[0;34m\u001b[0m\u001b[0m\n\u001b[1;32m    685\u001b[0m         \u001b[0;32melif\u001b[0m \u001b[0misinstance\u001b[0m\u001b[0;34m(\u001b[0m\u001b[0mkey\u001b[0m\u001b[0;34m,\u001b[0m \u001b[0mtimedelta\u001b[0m\u001b[0;34m)\u001b[0m\u001b[0;34m:\u001b[0m\u001b[0;34m\u001b[0m\u001b[0;34m\u001b[0m\u001b[0m\n",
      "\u001b[0;31mKeyError\u001b[0m: 'Adjusted Close'"
     ]
    }
   ],
   "source": [
    "swerx_hist = stock_pull(\"SWERX\")\n",
    "swerx_hist"
   ]
  },
  {
   "cell_type": "code",
   "execution_count": null,
   "id": "1c2ef6d3-24ac-4a3c-855d-3f413d5ec39e",
   "metadata": {},
   "outputs": [],
   "source": [
    "#show the bottom lines for the adj. close"
   ]
  },
  {
   "cell_type": "code",
   "execution_count": 105,
   "id": "5f915fbf-11b2-4b65-8749-10332217e9ff",
   "metadata": {},
   "outputs": [
    {
     "data": {},
     "metadata": {},
     "output_type": "display_data"
    },
    {
     "data": {
      "application/vnd.holoviews_exec.v0+json": "",
      "text/html": [
       "<div id='2334'>\n",
       "\n",
       "\n",
       "\n",
       "\n",
       "\n",
       "  <div class=\"bk-root\" id=\"5d0b0e4f-18e6-4eea-8956-1f4151e405ed\" data-root-id=\"2334\"></div>\n",
       "</div>\n",
       "<script type=\"application/javascript\">(function(root) {\n",
       "  function embed_document(root) {\n",
       "    var docs_json = {\"6b0d37ea-6190-40a8-98e3-9efa6f27adb4\":{\"defs\":[{\"extends\":null,\"module\":null,\"name\":\"ReactiveHTML1\",\"overrides\":[],\"properties\":[]},{\"extends\":null,\"module\":null,\"name\":\"FlexBox1\",\"overrides\":[],\"properties\":[{\"default\":\"flex-start\",\"kind\":null,\"name\":\"align_content\"},{\"default\":\"flex-start\",\"kind\":null,\"name\":\"align_items\"},{\"default\":\"row\",\"kind\":null,\"name\":\"flex_direction\"},{\"default\":\"wrap\",\"kind\":null,\"name\":\"flex_wrap\"},{\"default\":\"flex-start\",\"kind\":null,\"name\":\"justify_content\"}]},{\"extends\":null,\"module\":null,\"name\":\"TemplateActions1\",\"overrides\":[],\"properties\":[{\"default\":0,\"kind\":null,\"name\":\"open_modal\"},{\"default\":0,\"kind\":null,\"name\":\"close_modal\"}]},{\"extends\":null,\"module\":null,\"name\":\"MaterialTemplateActions1\",\"overrides\":[],\"properties\":[{\"default\":0,\"kind\":null,\"name\":\"open_modal\"},{\"default\":0,\"kind\":null,\"name\":\"close_modal\"}]}],\"roots\":{\"references\":[{\"attributes\":{},\"id\":\"2379\",\"type\":\"AllLabels\"},{\"attributes\":{\"coordinates\":null,\"group\":null,\"text_color\":\"black\",\"text_font_size\":\"12pt\"},\"id\":\"2340\",\"type\":\"Title\"},{\"attributes\":{},\"id\":\"2344\",\"type\":\"CategoricalScale\"},{\"attributes\":{\"axis_label\":\"Risk Ratio\",\"coordinates\":null,\"formatter\":{\"id\":\"2378\"},\"group\":null,\"major_label_policy\":{\"id\":\"2379\"},\"ticker\":{\"id\":\"2349\"}},\"id\":\"2348\",\"type\":\"CategoricalAxis\"},{\"attributes\":{},\"id\":\"2381\",\"type\":\"BasicTickFormatter\"},{\"attributes\":{},\"id\":\"2349\",\"type\":\"CategoricalTicker\"},{\"attributes\":{},\"id\":\"2369\",\"type\":\"Selection\"},{\"attributes\":{\"axis\":{\"id\":\"2348\"},\"coordinates\":null,\"grid_line_color\":null,\"group\":null,\"ticker\":null},\"id\":\"2350\",\"type\":\"Grid\"},{\"attributes\":{},\"id\":\"2356\",\"type\":\"PanTool\"},{\"attributes\":{\"axis_label\":\"(SWERX) 3 Year\",\"coordinates\":null,\"formatter\":{\"id\":\"2381\"},\"group\":null,\"major_label_policy\":{\"id\":\"2382\"},\"ticker\":{\"id\":\"2352\"}},\"id\":\"2351\",\"type\":\"LinearAxis\"},{\"attributes\":{\"margin\":[5,5,5,5],\"name\":\"HSpacer08888\",\"sizing_mode\":\"stretch_width\"},\"id\":\"2335\",\"type\":\"Spacer\"},{\"attributes\":{\"axis\":{\"id\":\"2351\"},\"coordinates\":null,\"dimension\":1,\"grid_line_color\":null,\"group\":null,\"ticker\":null},\"id\":\"2354\",\"type\":\"Grid\"},{\"attributes\":{},\"id\":\"2352\",\"type\":\"BasicTicker\"},{\"attributes\":{},\"id\":\"2357\",\"type\":\"WheelZoomTool\"},{\"attributes\":{\"margin\":[5,5,5,5],\"name\":\"HSpacer08889\",\"sizing_mode\":\"stretch_width\"},\"id\":\"2403\",\"type\":\"Spacer\"},{\"attributes\":{},\"id\":\"2355\",\"type\":\"SaveTool\"},{\"attributes\":{\"overlay\":{\"id\":\"2360\"}},\"id\":\"2358\",\"type\":\"BoxZoomTool\"},{\"attributes\":{},\"id\":\"2359\",\"type\":\"ResetTool\"},{\"attributes\":{\"bottom_units\":\"screen\",\"coordinates\":null,\"fill_alpha\":0.5,\"fill_color\":\"lightgrey\",\"group\":null,\"left_units\":\"screen\",\"level\":\"overlay\",\"line_alpha\":1.0,\"line_color\":\"black\",\"line_dash\":[4,4],\"line_width\":2,\"right_units\":\"screen\",\"syncable\":false,\"top_units\":\"screen\"},\"id\":\"2360\",\"type\":\"BoxAnnotation\"},{\"attributes\":{},\"id\":\"2378\",\"type\":\"CategoricalTickFormatter\"},{\"attributes\":{\"line_color\":\"#30a2da\",\"line_width\":2,\"x\":{\"field\":\"Risk Ratio\"},\"y\":{\"field\":\"(SWERX) 3 Year\"}},\"id\":\"2371\",\"type\":\"Line\"},{\"attributes\":{\"line_alpha\":0.1,\"line_color\":\"#30a2da\",\"line_width\":2,\"x\":{\"field\":\"Risk Ratio\"},\"y\":{\"field\":\"(SWERX) 3 Year\"}},\"id\":\"2372\",\"type\":\"Line\"},{\"attributes\":{\"line_alpha\":0.2,\"line_color\":\"#30a2da\",\"line_width\":2,\"x\":{\"field\":\"Risk Ratio\"},\"y\":{\"field\":\"(SWERX) 3 Year\"}},\"id\":\"2373\",\"type\":\"Line\"},{\"attributes\":{},\"id\":\"2346\",\"type\":\"LinearScale\"},{\"attributes\":{\"children\":[{\"id\":\"2335\"},{\"id\":\"2339\"},{\"id\":\"2403\"}],\"margin\":[0,0,0,0],\"name\":\"Row08884\",\"tags\":[\"embedded\"]},\"id\":\"2334\",\"type\":\"Row\"},{\"attributes\":{\"coordinates\":null,\"data_source\":{\"id\":\"2368\"},\"glyph\":{\"id\":\"2371\"},\"group\":null,\"hover_glyph\":null,\"muted_glyph\":{\"id\":\"2373\"},\"nonselection_glyph\":{\"id\":\"2372\"},\"selection_glyph\":{\"id\":\"2376\"},\"view\":{\"id\":\"2375\"}},\"id\":\"2374\",\"type\":\"GlyphRenderer\"},{\"attributes\":{\"end\":108.81400000000001,\"reset_end\":108.81400000000001,\"reset_start\":-12.554,\"start\":-12.554,\"tags\":[[[\"(SWERX) 3 Year\",\"(SWERX) 3 Year\",null]]]},\"id\":\"2337\",\"type\":\"Range1d\"},{\"attributes\":{},\"id\":\"2382\",\"type\":\"AllLabels\"},{\"attributes\":{\"factors\":[\"Alpha\",\"Beta\",\"R-squared\",\"Std. dv\",\"Sharpe Ratio\"],\"tags\":[[[\"Risk Ratio\",\"Risk Ratio\",null]]]},\"id\":\"2336\",\"type\":\"FactorRange\"},{\"attributes\":{\"source\":{\"id\":\"2368\"}},\"id\":\"2375\",\"type\":\"CDSView\"},{\"attributes\":{\"tools\":[{\"id\":\"2338\"},{\"id\":\"2355\"},{\"id\":\"2356\"},{\"id\":\"2357\"},{\"id\":\"2358\"},{\"id\":\"2359\"}]},\"id\":\"2361\",\"type\":\"Toolbar\"},{\"attributes\":{},\"id\":\"2390\",\"type\":\"UnionRenderers\"},{\"attributes\":{\"data\":{\"(SWERX) 3 Year\":{\"__ndarray__\":\"hetRuB6FA8AUrkfhehT2P83MzMzMrFhAFK5H4XqUL0Bcj8L1KFznPw==\",\"dtype\":\"float64\",\"order\":\"little\",\"shape\":[5]},\"Risk Ratio\":[\"Alpha\",\"Beta\",\"R-squared\",\"Std. dv\",\"Sharpe Ratio\"],\"Risk_Ratio\":[\"Alpha\",\"Beta\",\"R-squared\",\"Std. dv\",\"Sharpe Ratio\"],\"left_parenthesis_SWERX_right_parenthesis_3_Year\":{\"__ndarray__\":\"hetRuB6FA8AUrkfhehT2P83MzMzMrFhAFK5H4XqUL0Bcj8L1KFznPw==\",\"dtype\":\"float64\",\"order\":\"little\",\"shape\":[5]}},\"selected\":{\"id\":\"2369\"},\"selection_policy\":{\"id\":\"2390\"}},\"id\":\"2368\",\"type\":\"ColumnDataSource\"},{\"attributes\":{\"callback\":null,\"renderers\":[{\"id\":\"2374\"}],\"tags\":[\"hv_created\"],\"tooltips\":[[\"Risk Ratio\",\"@{Risk_Ratio}\"],[\"(SWERX) 3 Year\",\"@{left_parenthesis_SWERX_right_parenthesis_3_Year}\"]]},\"id\":\"2338\",\"type\":\"HoverTool\"},{\"attributes\":{\"line_color\":\"#30a2da\",\"line_width\":2,\"x\":{\"field\":\"Risk Ratio\"},\"y\":{\"field\":\"(SWERX) 3 Year\"}},\"id\":\"2376\",\"type\":\"Line\"},{\"attributes\":{\"below\":[{\"id\":\"2348\"}],\"center\":[{\"id\":\"2350\"},{\"id\":\"2354\"}],\"height\":300,\"left\":[{\"id\":\"2351\"}],\"margin\":[5,5,5,5],\"min_border_bottom\":10,\"min_border_left\":10,\"min_border_right\":10,\"min_border_top\":10,\"renderers\":[{\"id\":\"2374\"}],\"sizing_mode\":\"fixed\",\"title\":{\"id\":\"2340\"},\"toolbar\":{\"id\":\"2361\"},\"width\":700,\"x_range\":{\"id\":\"2336\"},\"x_scale\":{\"id\":\"2344\"},\"y_range\":{\"id\":\"2337\"},\"y_scale\":{\"id\":\"2346\"}},\"id\":\"2339\",\"subtype\":\"Figure\",\"type\":\"Plot\"}],\"root_ids\":[\"2334\"]},\"title\":\"Bokeh Application\",\"version\":\"2.4.1\"}};\n",
       "    var render_items = [{\"docid\":\"6b0d37ea-6190-40a8-98e3-9efa6f27adb4\",\"root_ids\":[\"2334\"],\"roots\":{\"2334\":\"5d0b0e4f-18e6-4eea-8956-1f4151e405ed\"}}];\n",
       "    root.Bokeh.embed.embed_items_notebook(docs_json, render_items);\n",
       "  }\n",
       "  if (root.Bokeh !== undefined && root.Bokeh.Panel !== undefined) {\n",
       "    embed_document(root);\n",
       "  } else {\n",
       "    var attempts = 0;\n",
       "    var timer = setInterval(function(root) {\n",
       "      if (root.Bokeh !== undefined && root.Bokeh.Panel !== undefined) {\n",
       "        clearInterval(timer);\n",
       "        embed_document(root);\n",
       "      } else if (document.readyState == \"complete\") {\n",
       "        attempts++;\n",
       "        if (attempts > 200) {\n",
       "          clearInterval(timer);\n",
       "          console.log(\"Bokeh: ERROR: Unable to run BokehJS code because BokehJS library is missing\");\n",
       "        }\n",
       "      }\n",
       "    }, 25, root)\n",
       "  }\n",
       "})(window);</script>"
      ],
      "text/plain": [
       ":Curve   [Risk Ratio]   ((SWERX) 3 Year)"
      ]
     },
     "execution_count": 105,
     "metadata": {
      "application/vnd.holoviews_exec.v0+json": {
       "id": "2334"
      }
     },
     "output_type": "execute_result"
    }
   ],
   "source": [
    "swerx_2040.hvplot (kind='line', x = 'Risk Ratio', y = '(SWERX) 3 Year')"
   ]
  },
  {
   "cell_type": "code",
   "execution_count": 94,
   "id": "a60b4427-594a-49b7-a7cf-fbc5208e7329",
   "metadata": {},
   "outputs": [
    {
     "data": {},
     "metadata": {},
     "output_type": "display_data"
    },
    {
     "data": {
      "application/vnd.holoviews_exec.v0+json": "",
      "text/html": [
       "<div id='2092'>\n",
       "\n",
       "\n",
       "\n",
       "\n",
       "\n",
       "  <div class=\"bk-root\" id=\"f6602600-3b23-41d5-827c-b9b46bdd0fde\" data-root-id=\"2092\"></div>\n",
       "</div>\n",
       "<script type=\"application/javascript\">(function(root) {\n",
       "  function embed_document(root) {\n",
       "    var docs_json = {\"c4e45e23-280d-4f5f-8262-bc40e996b31b\":{\"defs\":[{\"extends\":null,\"module\":null,\"name\":\"ReactiveHTML1\",\"overrides\":[],\"properties\":[]},{\"extends\":null,\"module\":null,\"name\":\"FlexBox1\",\"overrides\":[],\"properties\":[{\"default\":\"flex-start\",\"kind\":null,\"name\":\"align_content\"},{\"default\":\"flex-start\",\"kind\":null,\"name\":\"align_items\"},{\"default\":\"row\",\"kind\":null,\"name\":\"flex_direction\"},{\"default\":\"wrap\",\"kind\":null,\"name\":\"flex_wrap\"},{\"default\":\"flex-start\",\"kind\":null,\"name\":\"justify_content\"}]},{\"extends\":null,\"module\":null,\"name\":\"TemplateActions1\",\"overrides\":[],\"properties\":[{\"default\":0,\"kind\":null,\"name\":\"open_modal\"},{\"default\":0,\"kind\":null,\"name\":\"close_modal\"}]},{\"extends\":null,\"module\":null,\"name\":\"MaterialTemplateActions1\",\"overrides\":[],\"properties\":[{\"default\":0,\"kind\":null,\"name\":\"open_modal\"},{\"default\":0,\"kind\":null,\"name\":\"close_modal\"}]}],\"roots\":{\"references\":[{\"attributes\":{\"source\":{\"id\":\"2126\"}},\"id\":\"2133\",\"type\":\"CDSView\"},{\"attributes\":{},\"id\":\"2114\",\"type\":\"PanTool\"},{\"attributes\":{},\"id\":\"2127\",\"type\":\"Selection\"},{\"attributes\":{\"axis\":{\"id\":\"2109\"},\"coordinates\":null,\"dimension\":1,\"grid_line_color\":null,\"group\":null,\"ticker\":null},\"id\":\"2112\",\"type\":\"Grid\"},{\"attributes\":{},\"id\":\"2115\",\"type\":\"WheelZoomTool\"},{\"attributes\":{},\"id\":\"2113\",\"type\":\"SaveTool\"},{\"attributes\":{\"overlay\":{\"id\":\"2118\"}},\"id\":\"2116\",\"type\":\"BoxZoomTool\"},{\"attributes\":{},\"id\":\"2117\",\"type\":\"ResetTool\"},{\"attributes\":{\"bottom_units\":\"screen\",\"coordinates\":null,\"fill_alpha\":0.5,\"fill_color\":\"lightgrey\",\"group\":null,\"left_units\":\"screen\",\"level\":\"overlay\",\"line_alpha\":1.0,\"line_color\":\"black\",\"line_dash\":[4,4],\"line_width\":2,\"right_units\":\"screen\",\"syncable\":false,\"top_units\":\"screen\"},\"id\":\"2118\",\"type\":\"BoxAnnotation\"},{\"attributes\":{},\"id\":\"2110\",\"type\":\"BasicTicker\"},{\"attributes\":{\"line_color\":\"#30a2da\",\"line_width\":2,\"x\":{\"field\":\"Risk Ratio\"},\"y\":{\"field\":\"(SWERX) 5 years\"}},\"id\":\"2134\",\"type\":\"Line\"},{\"attributes\":{},\"id\":\"2136\",\"type\":\"CategoricalTickFormatter\"},{\"attributes\":{\"margin\":[5,5,5,5],\"name\":\"HSpacer08490\",\"sizing_mode\":\"stretch_width\"},\"id\":\"2161\",\"type\":\"Spacer\"},{\"attributes\":{\"line_alpha\":0.2,\"line_color\":\"#30a2da\",\"line_width\":2,\"x\":{\"field\":\"Risk Ratio\"},\"y\":{\"field\":\"(SWERX) 5 years\"}},\"id\":\"2131\",\"type\":\"Line\"},{\"attributes\":{\"end\":108.288,\"reset_end\":108.288,\"reset_start\":-10.848,\"start\":-10.848,\"tags\":[[[\"(SWERX) 5 years\",\"(SWERX) 5 years\",null]]]},\"id\":\"2095\",\"type\":\"Range1d\"},{\"attributes\":{\"axis\":{\"id\":\"2106\"},\"coordinates\":null,\"grid_line_color\":null,\"group\":null,\"ticker\":null},\"id\":\"2108\",\"type\":\"Grid\"},{\"attributes\":{},\"id\":\"2148\",\"type\":\"UnionRenderers\"},{\"attributes\":{\"factors\":[\"Alpha\",\"Beta\",\"R-squared\",\"Std. dv\",\"Sharpe Ratio\"],\"tags\":[[[\"Risk Ratio\",\"Risk Ratio\",null]]]},\"id\":\"2094\",\"type\":\"FactorRange\"},{\"attributes\":{},\"id\":\"2102\",\"type\":\"CategoricalScale\"},{\"attributes\":{\"coordinates\":null,\"data_source\":{\"id\":\"2126\"},\"glyph\":{\"id\":\"2129\"},\"group\":null,\"hover_glyph\":null,\"muted_glyph\":{\"id\":\"2131\"},\"nonselection_glyph\":{\"id\":\"2130\"},\"selection_glyph\":{\"id\":\"2134\"},\"view\":{\"id\":\"2133\"}},\"id\":\"2132\",\"type\":\"GlyphRenderer\"},{\"attributes\":{\"callback\":null,\"renderers\":[{\"id\":\"2132\"}],\"tags\":[\"hv_created\"],\"tooltips\":[[\"Risk Ratio\",\"@{Risk_Ratio}\"],[\"(SWERX) 5 years\",\"@{left_parenthesis_SWERX_right_parenthesis_5_years}\"]]},\"id\":\"2096\",\"type\":\"HoverTool\"},{\"attributes\":{\"data\":{\"(SWERX) 5 years\":{\"__ndarray__\":\"cT0K16Nw7b8UrkfhehT2P9ejcD0Kl1hAAAAAAACAKUAfhetRuB7tPw==\",\"dtype\":\"float64\",\"order\":\"little\",\"shape\":[5]},\"Risk Ratio\":[\"Alpha\",\"Beta\",\"R-squared\",\"Std. dv\",\"Sharpe Ratio\"],\"Risk_Ratio\":[\"Alpha\",\"Beta\",\"R-squared\",\"Std. dv\",\"Sharpe Ratio\"],\"left_parenthesis_SWERX_right_parenthesis_5_years\":{\"__ndarray__\":\"cT0K16Nw7b8UrkfhehT2P9ejcD0Kl1hAAAAAAACAKUAfhetRuB7tPw==\",\"dtype\":\"float64\",\"order\":\"little\",\"shape\":[5]}},\"selected\":{\"id\":\"2127\"},\"selection_policy\":{\"id\":\"2148\"}},\"id\":\"2126\",\"type\":\"ColumnDataSource\"},{\"attributes\":{},\"id\":\"2137\",\"type\":\"AllLabels\"},{\"attributes\":{\"margin\":[5,5,5,5],\"name\":\"HSpacer08489\",\"sizing_mode\":\"stretch_width\"},\"id\":\"2093\",\"type\":\"Spacer\"},{\"attributes\":{\"tools\":[{\"id\":\"2096\"},{\"id\":\"2113\"},{\"id\":\"2114\"},{\"id\":\"2115\"},{\"id\":\"2116\"},{\"id\":\"2117\"}]},\"id\":\"2119\",\"type\":\"Toolbar\"},{\"attributes\":{\"coordinates\":null,\"group\":null,\"text_color\":\"black\",\"text_font_size\":\"12pt\"},\"id\":\"2098\",\"type\":\"Title\"},{\"attributes\":{\"children\":[{\"id\":\"2093\"},{\"id\":\"2097\"},{\"id\":\"2161\"}],\"margin\":[0,0,0,0],\"name\":\"Row08485\",\"tags\":[\"embedded\"]},\"id\":\"2092\",\"type\":\"Row\"},{\"attributes\":{\"axis_label\":\"(SWERX) 5 years\",\"coordinates\":null,\"formatter\":{\"id\":\"2139\"},\"group\":null,\"major_label_policy\":{\"id\":\"2140\"},\"ticker\":{\"id\":\"2110\"}},\"id\":\"2109\",\"type\":\"LinearAxis\"},{\"attributes\":{\"below\":[{\"id\":\"2106\"}],\"center\":[{\"id\":\"2108\"},{\"id\":\"2112\"}],\"height\":300,\"left\":[{\"id\":\"2109\"}],\"margin\":[5,5,5,5],\"min_border_bottom\":10,\"min_border_left\":10,\"min_border_right\":10,\"min_border_top\":10,\"renderers\":[{\"id\":\"2132\"}],\"sizing_mode\":\"fixed\",\"title\":{\"id\":\"2098\"},\"toolbar\":{\"id\":\"2119\"},\"width\":700,\"x_range\":{\"id\":\"2094\"},\"x_scale\":{\"id\":\"2102\"},\"y_range\":{\"id\":\"2095\"},\"y_scale\":{\"id\":\"2104\"}},\"id\":\"2097\",\"subtype\":\"Figure\",\"type\":\"Plot\"},{\"attributes\":{},\"id\":\"2140\",\"type\":\"AllLabels\"},{\"attributes\":{},\"id\":\"2104\",\"type\":\"LinearScale\"},{\"attributes\":{\"line_color\":\"#30a2da\",\"line_width\":2,\"x\":{\"field\":\"Risk Ratio\"},\"y\":{\"field\":\"(SWERX) 5 years\"}},\"id\":\"2129\",\"type\":\"Line\"},{\"attributes\":{\"line_alpha\":0.1,\"line_color\":\"#30a2da\",\"line_width\":2,\"x\":{\"field\":\"Risk Ratio\"},\"y\":{\"field\":\"(SWERX) 5 years\"}},\"id\":\"2130\",\"type\":\"Line\"},{\"attributes\":{\"axis_label\":\"Risk Ratio\",\"coordinates\":null,\"formatter\":{\"id\":\"2136\"},\"group\":null,\"major_label_policy\":{\"id\":\"2137\"},\"ticker\":{\"id\":\"2107\"}},\"id\":\"2106\",\"type\":\"CategoricalAxis\"},{\"attributes\":{},\"id\":\"2107\",\"type\":\"CategoricalTicker\"},{\"attributes\":{},\"id\":\"2139\",\"type\":\"BasicTickFormatter\"}],\"root_ids\":[\"2092\"]},\"title\":\"Bokeh Application\",\"version\":\"2.4.1\"}};\n",
       "    var render_items = [{\"docid\":\"c4e45e23-280d-4f5f-8262-bc40e996b31b\",\"root_ids\":[\"2092\"],\"roots\":{\"2092\":\"f6602600-3b23-41d5-827c-b9b46bdd0fde\"}}];\n",
       "    root.Bokeh.embed.embed_items_notebook(docs_json, render_items);\n",
       "  }\n",
       "  if (root.Bokeh !== undefined && root.Bokeh.Panel !== undefined) {\n",
       "    embed_document(root);\n",
       "  } else {\n",
       "    var attempts = 0;\n",
       "    var timer = setInterval(function(root) {\n",
       "      if (root.Bokeh !== undefined && root.Bokeh.Panel !== undefined) {\n",
       "        clearInterval(timer);\n",
       "        embed_document(root);\n",
       "      } else if (document.readyState == \"complete\") {\n",
       "        attempts++;\n",
       "        if (attempts > 200) {\n",
       "          clearInterval(timer);\n",
       "          console.log(\"Bokeh: ERROR: Unable to run BokehJS code because BokehJS library is missing\");\n",
       "        }\n",
       "      }\n",
       "    }, 25, root)\n",
       "  }\n",
       "})(window);</script>"
      ],
      "text/plain": [
       ":Curve   [Risk Ratio]   ((SWERX) 5 years)"
      ]
     },
     "execution_count": 94,
     "metadata": {
      "application/vnd.holoviews_exec.v0+json": {
       "id": "2092"
      }
     },
     "output_type": "execute_result"
    }
   ],
   "source": [
    "swerx_2040.hvplot (kind='line', x = 'Risk Ratio', y = '(SWERX) 5 Year')"
   ]
  },
  {
   "cell_type": "code",
   "execution_count": 106,
   "id": "727670cc-4eec-4f50-8328-081993dcc44c",
   "metadata": {},
   "outputs": [
    {
     "data": {},
     "metadata": {},
     "output_type": "display_data"
    },
    {
     "data": {
      "application/vnd.holoviews_exec.v0+json": "",
      "text/html": [
       "<div id='2455'>\n",
       "\n",
       "\n",
       "\n",
       "\n",
       "\n",
       "  <div class=\"bk-root\" id=\"b4cd1184-4c5d-4f22-a205-610bc57d9ecd\" data-root-id=\"2455\"></div>\n",
       "</div>\n",
       "<script type=\"application/javascript\">(function(root) {\n",
       "  function embed_document(root) {\n",
       "    var docs_json = {\"c7d0427b-b954-40f5-b429-aaf8d31fbb05\":{\"defs\":[{\"extends\":null,\"module\":null,\"name\":\"ReactiveHTML1\",\"overrides\":[],\"properties\":[]},{\"extends\":null,\"module\":null,\"name\":\"FlexBox1\",\"overrides\":[],\"properties\":[{\"default\":\"flex-start\",\"kind\":null,\"name\":\"align_content\"},{\"default\":\"flex-start\",\"kind\":null,\"name\":\"align_items\"},{\"default\":\"row\",\"kind\":null,\"name\":\"flex_direction\"},{\"default\":\"wrap\",\"kind\":null,\"name\":\"flex_wrap\"},{\"default\":\"flex-start\",\"kind\":null,\"name\":\"justify_content\"}]},{\"extends\":null,\"module\":null,\"name\":\"TemplateActions1\",\"overrides\":[],\"properties\":[{\"default\":0,\"kind\":null,\"name\":\"open_modal\"},{\"default\":0,\"kind\":null,\"name\":\"close_modal\"}]},{\"extends\":null,\"module\":null,\"name\":\"MaterialTemplateActions1\",\"overrides\":[],\"properties\":[{\"default\":0,\"kind\":null,\"name\":\"open_modal\"},{\"default\":0,\"kind\":null,\"name\":\"close_modal\"}]}],\"roots\":{\"references\":[{\"attributes\":{\"line_color\":\"#30a2da\",\"line_width\":2,\"x\":{\"field\":\"Risk Ratio\"},\"y\":{\"field\":\"(SWERX) 10 Year\"}},\"id\":\"2497\",\"type\":\"Line\"},{\"attributes\":{},\"id\":\"2477\",\"type\":\"PanTool\"},{\"attributes\":{},\"id\":\"2503\",\"type\":\"AllLabels\"},{\"attributes\":{},\"id\":\"2511\",\"type\":\"UnionRenderers\"},{\"attributes\":{\"factors\":[\"Alpha\",\"Beta\",\"R-squared\",\"Std. dv\",\"Sharpe Ratio\"],\"tags\":[[[\"Risk Ratio\",\"Risk Ratio\",null]]]},\"id\":\"2457\",\"type\":\"FactorRange\"},{\"attributes\":{},\"id\":\"2499\",\"type\":\"CategoricalTickFormatter\"},{\"attributes\":{\"line_alpha\":0.1,\"line_color\":\"#30a2da\",\"line_width\":2,\"x\":{\"field\":\"Risk Ratio\"},\"y\":{\"field\":\"(SWERX) 10 Year\"}},\"id\":\"2493\",\"type\":\"Line\"},{\"attributes\":{},\"id\":\"2500\",\"type\":\"AllLabels\"},{\"attributes\":{\"line_color\":\"#30a2da\",\"line_width\":2,\"x\":{\"field\":\"Risk Ratio\"},\"y\":{\"field\":\"(SWERX) 10 Year\"}},\"id\":\"2492\",\"type\":\"Line\"},{\"attributes\":{\"coordinates\":null,\"group\":null,\"text_color\":\"black\",\"text_font_size\":\"12pt\"},\"id\":\"2461\",\"type\":\"Title\"},{\"attributes\":{\"source\":{\"id\":\"2489\"}},\"id\":\"2496\",\"type\":\"CDSView\"},{\"attributes\":{\"axis\":{\"id\":\"2469\"},\"coordinates\":null,\"grid_line_color\":null,\"group\":null,\"ticker\":null},\"id\":\"2471\",\"type\":\"Grid\"},{\"attributes\":{\"margin\":[5,5,5,5],\"name\":\"HSpacer09076\",\"sizing_mode\":\"stretch_width\"},\"id\":\"2456\",\"type\":\"Spacer\"},{\"attributes\":{},\"id\":\"2490\",\"type\":\"Selection\"},{\"attributes\":{\"data\":{\"(SWERX) 10 Year\":{\"__ndarray__\":\"SOF6FK5H6b+4HoXrUbj2P8P1KFyPMlhAhetRuB6FKECamZmZmZnpPw==\",\"dtype\":\"float64\",\"order\":\"little\",\"shape\":[5]},\"Risk Ratio\":[\"Alpha\",\"Beta\",\"R-squared\",\"Std. dv\",\"Sharpe Ratio\"],\"Risk_Ratio\":[\"Alpha\",\"Beta\",\"R-squared\",\"Std. dv\",\"Sharpe Ratio\"],\"left_parenthesis_SWERX_right_parenthesis_10_Year\":{\"__ndarray__\":\"SOF6FK5H6b+4HoXrUbj2P8P1KFyPMlhAhetRuB6FKECamZmZmZnpPw==\",\"dtype\":\"float64\",\"order\":\"little\",\"shape\":[5]}},\"selected\":{\"id\":\"2490\"},\"selection_policy\":{\"id\":\"2511\"}},\"id\":\"2489\",\"type\":\"ColumnDataSource\"},{\"attributes\":{\"callback\":null,\"renderers\":[{\"id\":\"2495\"}],\"tags\":[\"hv_created\"],\"tooltips\":[[\"Risk Ratio\",\"@{Risk_Ratio}\"],[\"(SWERX) 10 Year\",\"@{left_parenthesis_SWERX_right_parenthesis_10_Year}\"]]},\"id\":\"2459\",\"type\":\"HoverTool\"},{\"attributes\":{},\"id\":\"2502\",\"type\":\"BasicTickFormatter\"},{\"attributes\":{\"children\":[{\"id\":\"2456\"},{\"id\":\"2460\"},{\"id\":\"2524\"}],\"margin\":[0,0,0,0],\"name\":\"Row09072\",\"tags\":[\"embedded\"]},\"id\":\"2455\",\"type\":\"Row\"},{\"attributes\":{\"margin\":[5,5,5,5],\"name\":\"HSpacer09077\",\"sizing_mode\":\"stretch_width\"},\"id\":\"2524\",\"type\":\"Spacer\"},{\"attributes\":{\"tools\":[{\"id\":\"2459\"},{\"id\":\"2476\"},{\"id\":\"2477\"},{\"id\":\"2478\"},{\"id\":\"2479\"},{\"id\":\"2480\"}]},\"id\":\"2482\",\"type\":\"Toolbar\"},{\"attributes\":{},\"id\":\"2467\",\"type\":\"LinearScale\"},{\"attributes\":{\"below\":[{\"id\":\"2469\"}],\"center\":[{\"id\":\"2471\"},{\"id\":\"2475\"}],\"height\":300,\"left\":[{\"id\":\"2472\"}],\"margin\":[5,5,5,5],\"min_border_bottom\":10,\"min_border_left\":10,\"min_border_right\":10,\"min_border_top\":10,\"renderers\":[{\"id\":\"2495\"}],\"sizing_mode\":\"fixed\",\"title\":{\"id\":\"2461\"},\"toolbar\":{\"id\":\"2482\"},\"width\":700,\"x_range\":{\"id\":\"2457\"},\"x_scale\":{\"id\":\"2465\"},\"y_range\":{\"id\":\"2458\"},\"y_scale\":{\"id\":\"2467\"}},\"id\":\"2460\",\"subtype\":\"Figure\",\"type\":\"Plot\"},{\"attributes\":{},\"id\":\"2465\",\"type\":\"CategoricalScale\"},{\"attributes\":{\"axis_label\":\"Risk Ratio\",\"coordinates\":null,\"formatter\":{\"id\":\"2499\"},\"group\":null,\"major_label_policy\":{\"id\":\"2500\"},\"ticker\":{\"id\":\"2470\"}},\"id\":\"2469\",\"type\":\"CategoricalAxis\"},{\"attributes\":{\"axis\":{\"id\":\"2472\"},\"coordinates\":null,\"dimension\":1,\"grid_line_color\":null,\"group\":null,\"ticker\":null},\"id\":\"2475\",\"type\":\"Grid\"},{\"attributes\":{},\"id\":\"2470\",\"type\":\"CategoricalTicker\"},{\"attributes\":{\"axis_label\":\"(SWERX) 10 Year\",\"coordinates\":null,\"formatter\":{\"id\":\"2502\"},\"group\":null,\"major_label_policy\":{\"id\":\"2503\"},\"ticker\":{\"id\":\"2473\"}},\"id\":\"2472\",\"type\":\"LinearAxis\"},{\"attributes\":{\"coordinates\":null,\"data_source\":{\"id\":\"2489\"},\"glyph\":{\"id\":\"2492\"},\"group\":null,\"hover_glyph\":null,\"muted_glyph\":{\"id\":\"2494\"},\"nonselection_glyph\":{\"id\":\"2493\"},\"selection_glyph\":{\"id\":\"2497\"},\"view\":{\"id\":\"2496\"}},\"id\":\"2495\",\"type\":\"GlyphRenderer\"},{\"attributes\":{},\"id\":\"2473\",\"type\":\"BasicTicker\"},{\"attributes\":{},\"id\":\"2478\",\"type\":\"WheelZoomTool\"},{\"attributes\":{},\"id\":\"2476\",\"type\":\"SaveTool\"},{\"attributes\":{\"line_alpha\":0.2,\"line_color\":\"#30a2da\",\"line_width\":2,\"x\":{\"field\":\"Risk Ratio\"},\"y\":{\"field\":\"(SWERX) 10 Year\"}},\"id\":\"2494\",\"type\":\"Line\"},{\"attributes\":{\"overlay\":{\"id\":\"2481\"}},\"id\":\"2479\",\"type\":\"BoxZoomTool\"},{\"attributes\":{},\"id\":\"2480\",\"type\":\"ResetTool\"},{\"attributes\":{\"end\":106.548,\"reset_end\":106.548,\"reset_start\":-10.548000000000002,\"start\":-10.548000000000002,\"tags\":[[[\"(SWERX) 10 Year\",\"(SWERX) 10 Year\",null]]]},\"id\":\"2458\",\"type\":\"Range1d\"},{\"attributes\":{\"bottom_units\":\"screen\",\"coordinates\":null,\"fill_alpha\":0.5,\"fill_color\":\"lightgrey\",\"group\":null,\"left_units\":\"screen\",\"level\":\"overlay\",\"line_alpha\":1.0,\"line_color\":\"black\",\"line_dash\":[4,4],\"line_width\":2,\"right_units\":\"screen\",\"syncable\":false,\"top_units\":\"screen\"},\"id\":\"2481\",\"type\":\"BoxAnnotation\"}],\"root_ids\":[\"2455\"]},\"title\":\"Bokeh Application\",\"version\":\"2.4.1\"}};\n",
       "    var render_items = [{\"docid\":\"c7d0427b-b954-40f5-b429-aaf8d31fbb05\",\"root_ids\":[\"2455\"],\"roots\":{\"2455\":\"b4cd1184-4c5d-4f22-a205-610bc57d9ecd\"}}];\n",
       "    root.Bokeh.embed.embed_items_notebook(docs_json, render_items);\n",
       "  }\n",
       "  if (root.Bokeh !== undefined && root.Bokeh.Panel !== undefined) {\n",
       "    embed_document(root);\n",
       "  } else {\n",
       "    var attempts = 0;\n",
       "    var timer = setInterval(function(root) {\n",
       "      if (root.Bokeh !== undefined && root.Bokeh.Panel !== undefined) {\n",
       "        clearInterval(timer);\n",
       "        embed_document(root);\n",
       "      } else if (document.readyState == \"complete\") {\n",
       "        attempts++;\n",
       "        if (attempts > 200) {\n",
       "          clearInterval(timer);\n",
       "          console.log(\"Bokeh: ERROR: Unable to run BokehJS code because BokehJS library is missing\");\n",
       "        }\n",
       "      }\n",
       "    }, 25, root)\n",
       "  }\n",
       "})(window);</script>"
      ],
      "text/plain": [
       ":Curve   [Risk Ratio]   ((SWERX) 10 Year)"
      ]
     },
     "execution_count": 106,
     "metadata": {
      "application/vnd.holoviews_exec.v0+json": {
       "id": "2455"
      }
     },
     "output_type": "execute_result"
    }
   ],
   "source": [
    "swerx_2040.hvplot (kind='line', x = 'Risk Ratio', y = '(SWERX) 10 Year')"
   ]
  },
  {
   "cell_type": "code",
   "execution_count": 107,
   "id": "db038432-d447-42f7-844c-25719f578c6c",
   "metadata": {},
   "outputs": [
    {
     "data": {
      "text/html": [
       "<div>\n",
       "<style scoped>\n",
       "    .dataframe tbody tr th:only-of-type {\n",
       "        vertical-align: middle;\n",
       "    }\n",
       "\n",
       "    .dataframe tbody tr th {\n",
       "        vertical-align: top;\n",
       "    }\n",
       "\n",
       "    .dataframe thead th {\n",
       "        text-align: right;\n",
       "    }\n",
       "</style>\n",
       "<table border=\"1\" class=\"dataframe\">\n",
       "  <thead>\n",
       "    <tr style=\"text-align: right;\">\n",
       "      <th></th>\n",
       "      <th>Open</th>\n",
       "      <th>High</th>\n",
       "      <th>Low</th>\n",
       "      <th>Close</th>\n",
       "    </tr>\n",
       "    <tr>\n",
       "      <th>Date</th>\n",
       "      <th></th>\n",
       "      <th></th>\n",
       "      <th></th>\n",
       "      <th></th>\n",
       "    </tr>\n",
       "  </thead>\n",
       "  <tbody>\n",
       "    <tr>\n",
       "      <th>2017-10-26</th>\n",
       "      <td>13.528330</td>\n",
       "      <td>13.528330</td>\n",
       "      <td>13.528330</td>\n",
       "      <td>13.528330</td>\n",
       "    </tr>\n",
       "    <tr>\n",
       "      <th>2017-10-27</th>\n",
       "      <td>13.615710</td>\n",
       "      <td>13.615710</td>\n",
       "      <td>13.615710</td>\n",
       "      <td>13.615710</td>\n",
       "    </tr>\n",
       "    <tr>\n",
       "      <th>2017-10-30</th>\n",
       "      <td>13.591880</td>\n",
       "      <td>13.591880</td>\n",
       "      <td>13.591880</td>\n",
       "      <td>13.591880</td>\n",
       "    </tr>\n",
       "    <tr>\n",
       "      <th>2017-10-31</th>\n",
       "      <td>13.615710</td>\n",
       "      <td>13.615710</td>\n",
       "      <td>13.615710</td>\n",
       "      <td>13.615710</td>\n",
       "    </tr>\n",
       "    <tr>\n",
       "      <th>2017-11-01</th>\n",
       "      <td>13.639542</td>\n",
       "      <td>13.639542</td>\n",
       "      <td>13.639542</td>\n",
       "      <td>13.639542</td>\n",
       "    </tr>\n",
       "  </tbody>\n",
       "</table>\n",
       "</div>"
      ],
      "text/plain": [
       "                 Open       High        Low      Close\n",
       "Date                                                  \n",
       "2017-10-26  13.528330  13.528330  13.528330  13.528330\n",
       "2017-10-27  13.615710  13.615710  13.615710  13.615710\n",
       "2017-10-30  13.591880  13.591880  13.591880  13.591880\n",
       "2017-10-31  13.615710  13.615710  13.615710  13.615710\n",
       "2017-11-01  13.639542  13.639542  13.639542  13.639542"
      ]
     },
     "execution_count": 107,
     "metadata": {},
     "output_type": "execute_result"
    }
   ],
   "source": [
    "# Displaying Schwab 2040 fund over the 4yr scale \n",
    "\n",
    "s2040_hist = yf.Ticker(\"SWERX\").history(start = '2017-10-26', end = '2021-10-26')\n",
    "s2040_hist = s2040_hist.drop(columns=[ \"Volume\", \"Dividends\", \"Stock Splits\"], axis = 1)\n",
    "     \n",
    "s2040_hist.head()"
   ]
  },
  {
   "cell_type": "code",
   "execution_count": null,
   "id": "2ed71153-a654-47dc-80b6-398d987a4c9c",
   "metadata": {},
   "outputs": [],
   "source": []
  },
  {
   "cell_type": "code",
   "execution_count": null,
   "id": "154dbbca-afe0-4349-9ddb-9ef04b0d7fe3",
   "metadata": {},
   "outputs": [],
   "source": []
  },
  {
   "cell_type": "code",
   "execution_count": 134,
   "id": "954f32a0-8e68-493c-b6b2-dbe559f2e8af",
   "metadata": {},
   "outputs": [
    {
     "data": {
      "text/plain": [
       "Index(['Open', 'High', 'Low', 'Close'], dtype='object')"
      ]
     },
     "execution_count": 134,
     "metadata": {},
     "output_type": "execute_result"
    }
   ],
   "source": [
    "s2040_hist.columns "
   ]
  },
  {
   "cell_type": "markdown",
   "id": "135b6216-569a-46ab-b1ce-efa9ef58efb2",
   "metadata": {},
   "source": [
    "## Schwab S&P 500"
   ]
  },
  {
   "cell_type": "code",
   "execution_count": 108,
   "id": "98acfacc-e2b0-41d1-8b63-f7406ccaef7b",
   "metadata": {},
   "outputs": [
    {
     "data": {
      "text/html": [
       "<div>\n",
       "<style scoped>\n",
       "    .dataframe tbody tr th:only-of-type {\n",
       "        vertical-align: middle;\n",
       "    }\n",
       "\n",
       "    .dataframe tbody tr th {\n",
       "        vertical-align: top;\n",
       "    }\n",
       "\n",
       "    .dataframe thead th {\n",
       "        text-align: right;\n",
       "    }\n",
       "</style>\n",
       "<table border=\"1\" class=\"dataframe\">\n",
       "  <thead>\n",
       "    <tr style=\"text-align: right;\">\n",
       "      <th></th>\n",
       "      <th>Risk Ratio</th>\n",
       "      <th>(SWPPX) 3 Year</th>\n",
       "      <th>Category Ave.</th>\n",
       "      <th>(SWPPX) 5 Year</th>\n",
       "      <th>Category Ave. .1</th>\n",
       "      <th>(SWPPX) 10 Year</th>\n",
       "      <th>Category Ave. .2</th>\n",
       "    </tr>\n",
       "  </thead>\n",
       "  <tbody>\n",
       "    <tr>\n",
       "      <th>0</th>\n",
       "      <td>Alpha</td>\n",
       "      <td>-0.02</td>\n",
       "      <td>-0.02</td>\n",
       "      <td>-0.03</td>\n",
       "      <td>-0.01</td>\n",
       "      <td>-0.05</td>\n",
       "      <td>-0.02</td>\n",
       "    </tr>\n",
       "    <tr>\n",
       "      <th>1</th>\n",
       "      <td>Beta</td>\n",
       "      <td>1.00</td>\n",
       "      <td>0.01</td>\n",
       "      <td>1.00</td>\n",
       "      <td>0.01</td>\n",
       "      <td>1.00</td>\n",
       "      <td>0.01</td>\n",
       "    </tr>\n",
       "    <tr>\n",
       "      <th>2</th>\n",
       "      <td>R-squared</td>\n",
       "      <td>100.00</td>\n",
       "      <td>0.95</td>\n",
       "      <td>100.00</td>\n",
       "      <td>0.95</td>\n",
       "      <td>100.00</td>\n",
       "      <td>0.95</td>\n",
       "    </tr>\n",
       "    <tr>\n",
       "      <th>3</th>\n",
       "      <td>Std. dv</td>\n",
       "      <td>18.52</td>\n",
       "      <td>0.19</td>\n",
       "      <td>14.98</td>\n",
       "      <td>0.15</td>\n",
       "      <td>13.57</td>\n",
       "      <td>0.14</td>\n",
       "    </tr>\n",
       "    <tr>\n",
       "      <th>4</th>\n",
       "      <td>Sharpe Ratio</td>\n",
       "      <td>0.95</td>\n",
       "      <td>0.01</td>\n",
       "      <td>1.08</td>\n",
       "      <td>0.01</td>\n",
       "      <td>1.04</td>\n",
       "      <td>0.01</td>\n",
       "    </tr>\n",
       "  </tbody>\n",
       "</table>\n",
       "</div>"
      ],
      "text/plain": [
       "     Risk Ratio  (SWPPX) 3 Year  Category Ave.   (SWPPX) 5 Year  \\\n",
       "0         Alpha           -0.02           -0.02           -0.03   \n",
       "1          Beta            1.00            0.01            1.00   \n",
       "2     R-squared          100.00            0.95          100.00   \n",
       "3       Std. dv           18.52            0.19           14.98   \n",
       "4  Sharpe Ratio            0.95            0.01            1.08   \n",
       "\n",
       "   Category Ave. .1  (SWPPX) 10 Year  Category Ave. .2  \n",
       "0             -0.01            -0.05             -0.02  \n",
       "1              0.01             1.00              0.01  \n",
       "2              0.95           100.00              0.95  \n",
       "3              0.15            13.57              0.14  \n",
       "4              0.01             1.04              0.01  "
      ]
     },
     "execution_count": 108,
     "metadata": {},
     "output_type": "execute_result"
    }
   ],
   "source": [
    "# Importing Schwab S&P 500 csv\n",
    "\n",
    "file_path = Path(\"SWPPX_500.csv\")\n",
    "swppx_500 = pd.read_csv(file_path)\n",
    "\n",
    "swppx_500.drop(columns = [\"Index\"], axis = 1)"
   ]
  },
  {
   "cell_type": "code",
   "execution_count": 109,
   "id": "bb919f93-efb3-4ce0-a64a-d0b410469536",
   "metadata": {},
   "outputs": [
    {
     "data": {},
     "metadata": {},
     "output_type": "display_data"
    },
    {
     "data": {
      "application/vnd.holoviews_exec.v0+json": "",
      "text/html": [
       "<div id='2576'>\n",
       "\n",
       "\n",
       "\n",
       "\n",
       "\n",
       "  <div class=\"bk-root\" id=\"5fc68cc0-f5cd-4fd3-99a5-ccb88cb337c0\" data-root-id=\"2576\"></div>\n",
       "</div>\n",
       "<script type=\"application/javascript\">(function(root) {\n",
       "  function embed_document(root) {\n",
       "    var docs_json = {\"112a74e4-20fb-421a-9bc8-c18058ab81f7\":{\"defs\":[{\"extends\":null,\"module\":null,\"name\":\"ReactiveHTML1\",\"overrides\":[],\"properties\":[]},{\"extends\":null,\"module\":null,\"name\":\"FlexBox1\",\"overrides\":[],\"properties\":[{\"default\":\"flex-start\",\"kind\":null,\"name\":\"align_content\"},{\"default\":\"flex-start\",\"kind\":null,\"name\":\"align_items\"},{\"default\":\"row\",\"kind\":null,\"name\":\"flex_direction\"},{\"default\":\"wrap\",\"kind\":null,\"name\":\"flex_wrap\"},{\"default\":\"flex-start\",\"kind\":null,\"name\":\"justify_content\"}]},{\"extends\":null,\"module\":null,\"name\":\"TemplateActions1\",\"overrides\":[],\"properties\":[{\"default\":0,\"kind\":null,\"name\":\"open_modal\"},{\"default\":0,\"kind\":null,\"name\":\"close_modal\"}]},{\"extends\":null,\"module\":null,\"name\":\"MaterialTemplateActions1\",\"overrides\":[],\"properties\":[{\"default\":0,\"kind\":null,\"name\":\"open_modal\"},{\"default\":0,\"kind\":null,\"name\":\"close_modal\"}]}],\"roots\":{\"references\":[{\"attributes\":{\"axis\":{\"id\":\"2590\"},\"coordinates\":null,\"grid_line_color\":null,\"group\":null,\"ticker\":null},\"id\":\"2592\",\"type\":\"Grid\"},{\"attributes\":{\"end\":110.002,\"reset_end\":110.002,\"reset_start\":-10.022,\"start\":-10.022,\"tags\":[[[\"(SWPPX) 3 Year\",\"(SWPPX) 3 Year\",null]]]},\"id\":\"2579\",\"type\":\"Range1d\"},{\"attributes\":{\"bottom_units\":\"screen\",\"coordinates\":null,\"fill_alpha\":0.5,\"fill_color\":\"lightgrey\",\"group\":null,\"left_units\":\"screen\",\"level\":\"overlay\",\"line_alpha\":1.0,\"line_color\":\"black\",\"line_dash\":[4,4],\"line_width\":2,\"right_units\":\"screen\",\"syncable\":false,\"top_units\":\"screen\"},\"id\":\"2602\",\"type\":\"BoxAnnotation\"},{\"attributes\":{\"data\":{\"(SWPPX) 3 Year\":{\"__ndarray__\":\"exSuR+F6lL8AAAAAAADwPwAAAAAAAFlAhetRuB6FMkBmZmZmZmbuPw==\",\"dtype\":\"float64\",\"order\":\"little\",\"shape\":[5]},\"Risk Ratio\":[\"Alpha\",\"Beta\",\"R-squared\",\"Std. dv\",\"Sharpe Ratio\"],\"Risk_Ratio\":[\"Alpha\",\"Beta\",\"R-squared\",\"Std. dv\",\"Sharpe Ratio\"],\"left_parenthesis_SWPPX_right_parenthesis_3_Year\":{\"__ndarray__\":\"exSuR+F6lL8AAAAAAADwPwAAAAAAAFlAhetRuB6FMkBmZmZmZmbuPw==\",\"dtype\":\"float64\",\"order\":\"little\",\"shape\":[5]}},\"selected\":{\"id\":\"2611\"},\"selection_policy\":{\"id\":\"2632\"}},\"id\":\"2610\",\"type\":\"ColumnDataSource\"},{\"attributes\":{},\"id\":\"2586\",\"type\":\"CategoricalScale\"},{\"attributes\":{},\"id\":\"2621\",\"type\":\"AllLabels\"},{\"attributes\":{\"coordinates\":null,\"data_source\":{\"id\":\"2610\"},\"glyph\":{\"id\":\"2613\"},\"group\":null,\"hover_glyph\":null,\"muted_glyph\":{\"id\":\"2615\"},\"nonselection_glyph\":{\"id\":\"2614\"},\"selection_glyph\":{\"id\":\"2618\"},\"view\":{\"id\":\"2617\"}},\"id\":\"2616\",\"type\":\"GlyphRenderer\"},{\"attributes\":{\"factors\":[\"Alpha\",\"Beta\",\"R-squared\",\"Std. dv\",\"Sharpe Ratio\"],\"tags\":[[[\"Risk Ratio\",\"Risk Ratio\",null]]]},\"id\":\"2578\",\"type\":\"FactorRange\"},{\"attributes\":{\"line_alpha\":0.2,\"line_color\":\"#30a2da\",\"line_width\":2,\"x\":{\"field\":\"Risk Ratio\"},\"y\":{\"field\":\"(SWPPX) 3 Year\"}},\"id\":\"2615\",\"type\":\"Line\"},{\"attributes\":{\"below\":[{\"id\":\"2590\"}],\"center\":[{\"id\":\"2592\"},{\"id\":\"2596\"}],\"height\":300,\"left\":[{\"id\":\"2593\"}],\"margin\":[5,5,5,5],\"min_border_bottom\":10,\"min_border_left\":10,\"min_border_right\":10,\"min_border_top\":10,\"renderers\":[{\"id\":\"2616\"}],\"sizing_mode\":\"fixed\",\"title\":{\"id\":\"2582\"},\"toolbar\":{\"id\":\"2603\"},\"width\":700,\"x_range\":{\"id\":\"2578\"},\"x_scale\":{\"id\":\"2586\"},\"y_range\":{\"id\":\"2579\"},\"y_scale\":{\"id\":\"2588\"}},\"id\":\"2581\",\"subtype\":\"Figure\",\"type\":\"Plot\"},{\"attributes\":{\"margin\":[5,5,5,5],\"name\":\"HSpacer09265\",\"sizing_mode\":\"stretch_width\"},\"id\":\"2645\",\"type\":\"Spacer\"},{\"attributes\":{\"callback\":null,\"renderers\":[{\"id\":\"2616\"}],\"tags\":[\"hv_created\"],\"tooltips\":[[\"Risk Ratio\",\"@{Risk_Ratio}\"],[\"(SWPPX) 3 Year\",\"@{left_parenthesis_SWPPX_right_parenthesis_3_Year}\"]]},\"id\":\"2580\",\"type\":\"HoverTool\"},{\"attributes\":{},\"id\":\"2620\",\"type\":\"CategoricalTickFormatter\"},{\"attributes\":{},\"id\":\"2632\",\"type\":\"UnionRenderers\"},{\"attributes\":{\"tools\":[{\"id\":\"2580\"},{\"id\":\"2597\"},{\"id\":\"2598\"},{\"id\":\"2599\"},{\"id\":\"2600\"},{\"id\":\"2601\"}]},\"id\":\"2603\",\"type\":\"Toolbar\"},{\"attributes\":{\"coordinates\":null,\"group\":null,\"text_color\":\"black\",\"text_font_size\":\"12pt\"},\"id\":\"2582\",\"type\":\"Title\"},{\"attributes\":{},\"id\":\"2611\",\"type\":\"Selection\"},{\"attributes\":{\"margin\":[5,5,5,5],\"name\":\"HSpacer09264\",\"sizing_mode\":\"stretch_width\"},\"id\":\"2577\",\"type\":\"Spacer\"},{\"attributes\":{\"line_color\":\"#30a2da\",\"line_width\":2,\"x\":{\"field\":\"Risk Ratio\"},\"y\":{\"field\":\"(SWPPX) 3 Year\"}},\"id\":\"2613\",\"type\":\"Line\"},{\"attributes\":{\"line_alpha\":0.1,\"line_color\":\"#30a2da\",\"line_width\":2,\"x\":{\"field\":\"Risk Ratio\"},\"y\":{\"field\":\"(SWPPX) 3 Year\"}},\"id\":\"2614\",\"type\":\"Line\"},{\"attributes\":{\"source\":{\"id\":\"2610\"}},\"id\":\"2617\",\"type\":\"CDSView\"},{\"attributes\":{\"children\":[{\"id\":\"2577\"},{\"id\":\"2581\"},{\"id\":\"2645\"}],\"margin\":[0,0,0,0],\"name\":\"Row09260\",\"tags\":[\"embedded\"]},\"id\":\"2576\",\"type\":\"Row\"},{\"attributes\":{},\"id\":\"2588\",\"type\":\"LinearScale\"},{\"attributes\":{\"line_color\":\"#30a2da\",\"line_width\":2,\"x\":{\"field\":\"Risk Ratio\"},\"y\":{\"field\":\"(SWPPX) 3 Year\"}},\"id\":\"2618\",\"type\":\"Line\"},{\"attributes\":{},\"id\":\"2598\",\"type\":\"PanTool\"},{\"attributes\":{},\"id\":\"2623\",\"type\":\"BasicTickFormatter\"},{\"attributes\":{\"axis_label\":\"Risk Ratio\",\"coordinates\":null,\"formatter\":{\"id\":\"2620\"},\"group\":null,\"major_label_policy\":{\"id\":\"2621\"},\"ticker\":{\"id\":\"2591\"}},\"id\":\"2590\",\"type\":\"CategoricalAxis\"},{\"attributes\":{\"axis\":{\"id\":\"2593\"},\"coordinates\":null,\"dimension\":1,\"grid_line_color\":null,\"group\":null,\"ticker\":null},\"id\":\"2596\",\"type\":\"Grid\"},{\"attributes\":{},\"id\":\"2591\",\"type\":\"CategoricalTicker\"},{\"attributes\":{\"axis_label\":\"(SWPPX) 3 Year\",\"coordinates\":null,\"formatter\":{\"id\":\"2623\"},\"group\":null,\"major_label_policy\":{\"id\":\"2624\"},\"ticker\":{\"id\":\"2594\"}},\"id\":\"2593\",\"type\":\"LinearAxis\"},{\"attributes\":{},\"id\":\"2594\",\"type\":\"BasicTicker\"},{\"attributes\":{},\"id\":\"2599\",\"type\":\"WheelZoomTool\"},{\"attributes\":{},\"id\":\"2601\",\"type\":\"ResetTool\"},{\"attributes\":{},\"id\":\"2597\",\"type\":\"SaveTool\"},{\"attributes\":{},\"id\":\"2624\",\"type\":\"AllLabels\"},{\"attributes\":{\"overlay\":{\"id\":\"2602\"}},\"id\":\"2600\",\"type\":\"BoxZoomTool\"}],\"root_ids\":[\"2576\"]},\"title\":\"Bokeh Application\",\"version\":\"2.4.1\"}};\n",
       "    var render_items = [{\"docid\":\"112a74e4-20fb-421a-9bc8-c18058ab81f7\",\"root_ids\":[\"2576\"],\"roots\":{\"2576\":\"5fc68cc0-f5cd-4fd3-99a5-ccb88cb337c0\"}}];\n",
       "    root.Bokeh.embed.embed_items_notebook(docs_json, render_items);\n",
       "  }\n",
       "  if (root.Bokeh !== undefined && root.Bokeh.Panel !== undefined) {\n",
       "    embed_document(root);\n",
       "  } else {\n",
       "    var attempts = 0;\n",
       "    var timer = setInterval(function(root) {\n",
       "      if (root.Bokeh !== undefined && root.Bokeh.Panel !== undefined) {\n",
       "        clearInterval(timer);\n",
       "        embed_document(root);\n",
       "      } else if (document.readyState == \"complete\") {\n",
       "        attempts++;\n",
       "        if (attempts > 200) {\n",
       "          clearInterval(timer);\n",
       "          console.log(\"Bokeh: ERROR: Unable to run BokehJS code because BokehJS library is missing\");\n",
       "        }\n",
       "      }\n",
       "    }, 25, root)\n",
       "  }\n",
       "})(window);</script>"
      ],
      "text/plain": [
       ":Curve   [Risk Ratio]   ((SWPPX) 3 Year)"
      ]
     },
     "execution_count": 109,
     "metadata": {
      "application/vnd.holoviews_exec.v0+json": {
       "id": "2576"
      }
     },
     "output_type": "execute_result"
    }
   ],
   "source": [
    "swppx_500.hvplot (kind='line', x = 'Risk Ratio', y = '(SWPPX) 3 Year')"
   ]
  },
  {
   "cell_type": "code",
   "execution_count": 110,
   "id": "edf31b01-3e99-48ac-9775-b25868be975e",
   "metadata": {},
   "outputs": [
    {
     "data": {},
     "metadata": {},
     "output_type": "display_data"
    },
    {
     "data": {
      "application/vnd.holoviews_exec.v0+json": "",
      "text/html": [
       "<div id='2697'>\n",
       "\n",
       "\n",
       "\n",
       "\n",
       "\n",
       "  <div class=\"bk-root\" id=\"cd7b23ff-1392-4779-b268-1cbd14b0bea0\" data-root-id=\"2697\"></div>\n",
       "</div>\n",
       "<script type=\"application/javascript\">(function(root) {\n",
       "  function embed_document(root) {\n",
       "    var docs_json = {\"c054bcab-d6d9-4c29-8520-9f5d0f2127c1\":{\"defs\":[{\"extends\":null,\"module\":null,\"name\":\"ReactiveHTML1\",\"overrides\":[],\"properties\":[]},{\"extends\":null,\"module\":null,\"name\":\"FlexBox1\",\"overrides\":[],\"properties\":[{\"default\":\"flex-start\",\"kind\":null,\"name\":\"align_content\"},{\"default\":\"flex-start\",\"kind\":null,\"name\":\"align_items\"},{\"default\":\"row\",\"kind\":null,\"name\":\"flex_direction\"},{\"default\":\"wrap\",\"kind\":null,\"name\":\"flex_wrap\"},{\"default\":\"flex-start\",\"kind\":null,\"name\":\"justify_content\"}]},{\"extends\":null,\"module\":null,\"name\":\"TemplateActions1\",\"overrides\":[],\"properties\":[{\"default\":0,\"kind\":null,\"name\":\"open_modal\"},{\"default\":0,\"kind\":null,\"name\":\"close_modal\"}]},{\"extends\":null,\"module\":null,\"name\":\"MaterialTemplateActions1\",\"overrides\":[],\"properties\":[{\"default\":0,\"kind\":null,\"name\":\"open_modal\"},{\"default\":0,\"kind\":null,\"name\":\"close_modal\"}]}],\"roots\":{\"references\":[{\"attributes\":{},\"id\":\"2732\",\"type\":\"Selection\"},{\"attributes\":{},\"id\":\"2720\",\"type\":\"WheelZoomTool\"},{\"attributes\":{},\"id\":\"2719\",\"type\":\"PanTool\"},{\"attributes\":{},\"id\":\"2718\",\"type\":\"SaveTool\"},{\"attributes\":{\"callback\":null,\"renderers\":[{\"id\":\"2737\"}],\"tags\":[\"hv_created\"],\"tooltips\":[[\"Risk Ratio\",\"@{Risk_Ratio}\"],[\"(SWPPX) 5 Year\",\"@{left_parenthesis_SWPPX_right_parenthesis_5_Year}\"]]},\"id\":\"2701\",\"type\":\"HoverTool\"},{\"attributes\":{\"overlay\":{\"id\":\"2723\"}},\"id\":\"2721\",\"type\":\"BoxZoomTool\"},{\"attributes\":{},\"id\":\"2722\",\"type\":\"ResetTool\"},{\"attributes\":{\"bottom_units\":\"screen\",\"coordinates\":null,\"fill_alpha\":0.5,\"fill_color\":\"lightgrey\",\"group\":null,\"left_units\":\"screen\",\"level\":\"overlay\",\"line_alpha\":1.0,\"line_color\":\"black\",\"line_dash\":[4,4],\"line_width\":2,\"right_units\":\"screen\",\"syncable\":false,\"top_units\":\"screen\"},\"id\":\"2723\",\"type\":\"BoxAnnotation\"},{\"attributes\":{\"axis\":{\"id\":\"2714\"},\"coordinates\":null,\"dimension\":1,\"grid_line_color\":null,\"group\":null,\"ticker\":null},\"id\":\"2717\",\"type\":\"Grid\"},{\"attributes\":{},\"id\":\"2741\",\"type\":\"CategoricalTickFormatter\"},{\"attributes\":{\"line_alpha\":0.2,\"line_color\":\"#30a2da\",\"line_width\":2,\"x\":{\"field\":\"Risk Ratio\"},\"y\":{\"field\":\"(SWPPX) 5 Year\"}},\"id\":\"2736\",\"type\":\"Line\"},{\"attributes\":{\"coordinates\":null,\"data_source\":{\"id\":\"2731\"},\"glyph\":{\"id\":\"2734\"},\"group\":null,\"hover_glyph\":null,\"muted_glyph\":{\"id\":\"2736\"},\"nonselection_glyph\":{\"id\":\"2735\"},\"selection_glyph\":{\"id\":\"2739\"},\"view\":{\"id\":\"2738\"}},\"id\":\"2737\",\"type\":\"GlyphRenderer\"},{\"attributes\":{\"end\":110.003,\"reset_end\":110.003,\"reset_start\":-10.033,\"start\":-10.033,\"tags\":[[[\"(SWPPX) 5 Year\",\"(SWPPX) 5 Year\",null]]]},\"id\":\"2700\",\"type\":\"Range1d\"},{\"attributes\":{\"axis\":{\"id\":\"2711\"},\"coordinates\":null,\"grid_line_color\":null,\"group\":null,\"ticker\":null},\"id\":\"2713\",\"type\":\"Grid\"},{\"attributes\":{\"factors\":[\"Alpha\",\"Beta\",\"R-squared\",\"Std. dv\",\"Sharpe Ratio\"],\"tags\":[[[\"Risk Ratio\",\"Risk Ratio\",null]]]},\"id\":\"2699\",\"type\":\"FactorRange\"},{\"attributes\":{\"children\":[{\"id\":\"2698\"},{\"id\":\"2702\"},{\"id\":\"2766\"}],\"margin\":[0,0,0,0],\"name\":\"Row09448\",\"tags\":[\"embedded\"]},\"id\":\"2697\",\"type\":\"Row\"},{\"attributes\":{\"data\":{\"(SWPPX) 5 Year\":{\"__ndarray__\":\"uB6F61G4nr8AAAAAAADwPwAAAAAAAFlA9ihcj8L1LUBI4XoUrkfxPw==\",\"dtype\":\"float64\",\"order\":\"little\",\"shape\":[5]},\"Risk Ratio\":[\"Alpha\",\"Beta\",\"R-squared\",\"Std. dv\",\"Sharpe Ratio\"],\"Risk_Ratio\":[\"Alpha\",\"Beta\",\"R-squared\",\"Std. dv\",\"Sharpe Ratio\"],\"left_parenthesis_SWPPX_right_parenthesis_5_Year\":{\"__ndarray__\":\"uB6F61G4nr8AAAAAAADwPwAAAAAAAFlA9ihcj8L1LUBI4XoUrkfxPw==\",\"dtype\":\"float64\",\"order\":\"little\",\"shape\":[5]}},\"selected\":{\"id\":\"2732\"},\"selection_policy\":{\"id\":\"2753\"}},\"id\":\"2731\",\"type\":\"ColumnDataSource\"},{\"attributes\":{\"tools\":[{\"id\":\"2701\"},{\"id\":\"2718\"},{\"id\":\"2719\"},{\"id\":\"2720\"},{\"id\":\"2721\"},{\"id\":\"2722\"}]},\"id\":\"2724\",\"type\":\"Toolbar\"},{\"attributes\":{},\"id\":\"2745\",\"type\":\"AllLabels\"},{\"attributes\":{},\"id\":\"2753\",\"type\":\"UnionRenderers\"},{\"attributes\":{\"margin\":[5,5,5,5],\"name\":\"HSpacer09452\",\"sizing_mode\":\"stretch_width\"},\"id\":\"2698\",\"type\":\"Spacer\"},{\"attributes\":{},\"id\":\"2744\",\"type\":\"BasicTickFormatter\"},{\"attributes\":{\"coordinates\":null,\"group\":null,\"text_color\":\"black\",\"text_font_size\":\"12pt\"},\"id\":\"2703\",\"type\":\"Title\"},{\"attributes\":{},\"id\":\"2742\",\"type\":\"AllLabels\"},{\"attributes\":{\"line_color\":\"#30a2da\",\"line_width\":2,\"x\":{\"field\":\"Risk Ratio\"},\"y\":{\"field\":\"(SWPPX) 5 Year\"}},\"id\":\"2734\",\"type\":\"Line\"},{\"attributes\":{\"line_alpha\":0.1,\"line_color\":\"#30a2da\",\"line_width\":2,\"x\":{\"field\":\"Risk Ratio\"},\"y\":{\"field\":\"(SWPPX) 5 Year\"}},\"id\":\"2735\",\"type\":\"Line\"},{\"attributes\":{\"below\":[{\"id\":\"2711\"}],\"center\":[{\"id\":\"2713\"},{\"id\":\"2717\"}],\"height\":300,\"left\":[{\"id\":\"2714\"}],\"margin\":[5,5,5,5],\"min_border_bottom\":10,\"min_border_left\":10,\"min_border_right\":10,\"min_border_top\":10,\"renderers\":[{\"id\":\"2737\"}],\"sizing_mode\":\"fixed\",\"title\":{\"id\":\"2703\"},\"toolbar\":{\"id\":\"2724\"},\"width\":700,\"x_range\":{\"id\":\"2699\"},\"x_scale\":{\"id\":\"2707\"},\"y_range\":{\"id\":\"2700\"},\"y_scale\":{\"id\":\"2709\"}},\"id\":\"2702\",\"subtype\":\"Figure\",\"type\":\"Plot\"},{\"attributes\":{},\"id\":\"2707\",\"type\":\"CategoricalScale\"},{\"attributes\":{},\"id\":\"2709\",\"type\":\"LinearScale\"},{\"attributes\":{\"source\":{\"id\":\"2731\"}},\"id\":\"2738\",\"type\":\"CDSView\"},{\"attributes\":{\"axis_label\":\"Risk Ratio\",\"coordinates\":null,\"formatter\":{\"id\":\"2741\"},\"group\":null,\"major_label_policy\":{\"id\":\"2742\"},\"ticker\":{\"id\":\"2712\"}},\"id\":\"2711\",\"type\":\"CategoricalAxis\"},{\"attributes\":{\"line_color\":\"#30a2da\",\"line_width\":2,\"x\":{\"field\":\"Risk Ratio\"},\"y\":{\"field\":\"(SWPPX) 5 Year\"}},\"id\":\"2739\",\"type\":\"Line\"},{\"attributes\":{\"axis_label\":\"(SWPPX) 5 Year\",\"coordinates\":null,\"formatter\":{\"id\":\"2744\"},\"group\":null,\"major_label_policy\":{\"id\":\"2745\"},\"ticker\":{\"id\":\"2715\"}},\"id\":\"2714\",\"type\":\"LinearAxis\"},{\"attributes\":{},\"id\":\"2712\",\"type\":\"CategoricalTicker\"},{\"attributes\":{},\"id\":\"2715\",\"type\":\"BasicTicker\"},{\"attributes\":{\"margin\":[5,5,5,5],\"name\":\"HSpacer09453\",\"sizing_mode\":\"stretch_width\"},\"id\":\"2766\",\"type\":\"Spacer\"}],\"root_ids\":[\"2697\"]},\"title\":\"Bokeh Application\",\"version\":\"2.4.1\"}};\n",
       "    var render_items = [{\"docid\":\"c054bcab-d6d9-4c29-8520-9f5d0f2127c1\",\"root_ids\":[\"2697\"],\"roots\":{\"2697\":\"cd7b23ff-1392-4779-b268-1cbd14b0bea0\"}}];\n",
       "    root.Bokeh.embed.embed_items_notebook(docs_json, render_items);\n",
       "  }\n",
       "  if (root.Bokeh !== undefined && root.Bokeh.Panel !== undefined) {\n",
       "    embed_document(root);\n",
       "  } else {\n",
       "    var attempts = 0;\n",
       "    var timer = setInterval(function(root) {\n",
       "      if (root.Bokeh !== undefined && root.Bokeh.Panel !== undefined) {\n",
       "        clearInterval(timer);\n",
       "        embed_document(root);\n",
       "      } else if (document.readyState == \"complete\") {\n",
       "        attempts++;\n",
       "        if (attempts > 200) {\n",
       "          clearInterval(timer);\n",
       "          console.log(\"Bokeh: ERROR: Unable to run BokehJS code because BokehJS library is missing\");\n",
       "        }\n",
       "      }\n",
       "    }, 25, root)\n",
       "  }\n",
       "})(window);</script>"
      ],
      "text/plain": [
       ":Curve   [Risk Ratio]   ((SWPPX) 5 Year)"
      ]
     },
     "execution_count": 110,
     "metadata": {
      "application/vnd.holoviews_exec.v0+json": {
       "id": "2697"
      }
     },
     "output_type": "execute_result"
    }
   ],
   "source": [
    "swppx_500.hvplot (kind='line', x = 'Risk Ratio', y = '(SWPPX) 5 Year')"
   ]
  },
  {
   "cell_type": "code",
   "execution_count": 111,
   "id": "81faac15-ea23-4902-83c4-cff959e5f0d8",
   "metadata": {},
   "outputs": [
    {
     "data": {},
     "metadata": {},
     "output_type": "display_data"
    },
    {
     "data": {
      "application/vnd.holoviews_exec.v0+json": "",
      "text/html": [
       "<div id='2818'>\n",
       "\n",
       "\n",
       "\n",
       "\n",
       "\n",
       "  <div class=\"bk-root\" id=\"feba1dc2-78d6-43c3-bae3-cbb75776b6ee\" data-root-id=\"2818\"></div>\n",
       "</div>\n",
       "<script type=\"application/javascript\">(function(root) {\n",
       "  function embed_document(root) {\n",
       "    var docs_json = {\"fcc32050-7d6e-4990-856b-3470cc0f0547\":{\"defs\":[{\"extends\":null,\"module\":null,\"name\":\"ReactiveHTML1\",\"overrides\":[],\"properties\":[]},{\"extends\":null,\"module\":null,\"name\":\"FlexBox1\",\"overrides\":[],\"properties\":[{\"default\":\"flex-start\",\"kind\":null,\"name\":\"align_content\"},{\"default\":\"flex-start\",\"kind\":null,\"name\":\"align_items\"},{\"default\":\"row\",\"kind\":null,\"name\":\"flex_direction\"},{\"default\":\"wrap\",\"kind\":null,\"name\":\"flex_wrap\"},{\"default\":\"flex-start\",\"kind\":null,\"name\":\"justify_content\"}]},{\"extends\":null,\"module\":null,\"name\":\"TemplateActions1\",\"overrides\":[],\"properties\":[{\"default\":0,\"kind\":null,\"name\":\"open_modal\"},{\"default\":0,\"kind\":null,\"name\":\"close_modal\"}]},{\"extends\":null,\"module\":null,\"name\":\"MaterialTemplateActions1\",\"overrides\":[],\"properties\":[{\"default\":0,\"kind\":null,\"name\":\"open_modal\"},{\"default\":0,\"kind\":null,\"name\":\"close_modal\"}]}],\"roots\":{\"references\":[{\"attributes\":{\"line_color\":\"#30a2da\",\"line_width\":2,\"x\":{\"field\":\"Risk Ratio\"},\"y\":{\"field\":\"(SWPPX) 10 Year\"}},\"id\":\"2860\",\"type\":\"Line\"},{\"attributes\":{},\"id\":\"2841\",\"type\":\"WheelZoomTool\"},{\"attributes\":{},\"id\":\"2853\",\"type\":\"Selection\"},{\"attributes\":{\"children\":[{\"id\":\"2819\"},{\"id\":\"2823\"},{\"id\":\"2887\"}],\"margin\":[0,0,0,0],\"name\":\"Row09636\",\"tags\":[\"embedded\"]},\"id\":\"2818\",\"type\":\"Row\"},{\"attributes\":{},\"id\":\"2840\",\"type\":\"PanTool\"},{\"attributes\":{},\"id\":\"2839\",\"type\":\"SaveTool\"},{\"attributes\":{\"margin\":[5,5,5,5],\"name\":\"HSpacer09641\",\"sizing_mode\":\"stretch_width\"},\"id\":\"2887\",\"type\":\"Spacer\"},{\"attributes\":{\"overlay\":{\"id\":\"2844\"}},\"id\":\"2842\",\"type\":\"BoxZoomTool\"},{\"attributes\":{},\"id\":\"2843\",\"type\":\"ResetTool\"},{\"attributes\":{\"bottom_units\":\"screen\",\"coordinates\":null,\"fill_alpha\":0.5,\"fill_color\":\"lightgrey\",\"group\":null,\"left_units\":\"screen\",\"level\":\"overlay\",\"line_alpha\":1.0,\"line_color\":\"black\",\"line_dash\":[4,4],\"line_width\":2,\"right_units\":\"screen\",\"syncable\":false,\"top_units\":\"screen\"},\"id\":\"2844\",\"type\":\"BoxAnnotation\"},{\"attributes\":{},\"id\":\"2836\",\"type\":\"BasicTicker\"},{\"attributes\":{},\"id\":\"2862\",\"type\":\"CategoricalTickFormatter\"},{\"attributes\":{},\"id\":\"2828\",\"type\":\"CategoricalScale\"},{\"attributes\":{\"line_alpha\":0.2,\"line_color\":\"#30a2da\",\"line_width\":2,\"x\":{\"field\":\"Risk Ratio\"},\"y\":{\"field\":\"(SWPPX) 10 Year\"}},\"id\":\"2857\",\"type\":\"Line\"},{\"attributes\":{\"coordinates\":null,\"data_source\":{\"id\":\"2852\"},\"glyph\":{\"id\":\"2855\"},\"group\":null,\"hover_glyph\":null,\"muted_glyph\":{\"id\":\"2857\"},\"nonselection_glyph\":{\"id\":\"2856\"},\"selection_glyph\":{\"id\":\"2860\"},\"view\":{\"id\":\"2859\"}},\"id\":\"2858\",\"type\":\"GlyphRenderer\"},{\"attributes\":{\"end\":110.005,\"reset_end\":110.005,\"reset_start\":-10.055000000000001,\"start\":-10.055000000000001,\"tags\":[[[\"(SWPPX) 10 Year\",\"(SWPPX) 10 Year\",null]]]},\"id\":\"2821\",\"type\":\"Range1d\"},{\"attributes\":{\"margin\":[5,5,5,5],\"name\":\"HSpacer09640\",\"sizing_mode\":\"stretch_width\"},\"id\":\"2819\",\"type\":\"Spacer\"},{\"attributes\":{\"axis\":{\"id\":\"2832\"},\"coordinates\":null,\"grid_line_color\":null,\"group\":null,\"ticker\":null},\"id\":\"2834\",\"type\":\"Grid\"},{\"attributes\":{\"factors\":[\"Alpha\",\"Beta\",\"R-squared\",\"Std. dv\",\"Sharpe Ratio\"],\"tags\":[[[\"Risk Ratio\",\"Risk Ratio\",null]]]},\"id\":\"2820\",\"type\":\"FactorRange\"},{\"attributes\":{},\"id\":\"2866\",\"type\":\"AllLabels\"},{\"attributes\":{\"data\":{\"(SWPPX) 10 Year\":{\"__ndarray__\":\"mpmZmZmZqb8AAAAAAADwPwAAAAAAAFlApHA9CtcjK0CkcD0K16PwPw==\",\"dtype\":\"float64\",\"order\":\"little\",\"shape\":[5]},\"Risk Ratio\":[\"Alpha\",\"Beta\",\"R-squared\",\"Std. dv\",\"Sharpe Ratio\"],\"Risk_Ratio\":[\"Alpha\",\"Beta\",\"R-squared\",\"Std. dv\",\"Sharpe Ratio\"],\"left_parenthesis_SWPPX_right_parenthesis_10_Year\":{\"__ndarray__\":\"mpmZmZmZqb8AAAAAAADwPwAAAAAAAFlApHA9CtcjK0CkcD0K16PwPw==\",\"dtype\":\"float64\",\"order\":\"little\",\"shape\":[5]}},\"selected\":{\"id\":\"2853\"},\"selection_policy\":{\"id\":\"2874\"}},\"id\":\"2852\",\"type\":\"ColumnDataSource\"},{\"attributes\":{\"tools\":[{\"id\":\"2822\"},{\"id\":\"2839\"},{\"id\":\"2840\"},{\"id\":\"2841\"},{\"id\":\"2842\"},{\"id\":\"2843\"}]},\"id\":\"2845\",\"type\":\"Toolbar\"},{\"attributes\":{},\"id\":\"2863\",\"type\":\"AllLabels\"},{\"attributes\":{\"coordinates\":null,\"group\":null,\"text_color\":\"black\",\"text_font_size\":\"12pt\"},\"id\":\"2824\",\"type\":\"Title\"},{\"attributes\":{},\"id\":\"2874\",\"type\":\"UnionRenderers\"},{\"attributes\":{\"axis_label\":\"(SWPPX) 10 Year\",\"coordinates\":null,\"formatter\":{\"id\":\"2865\"},\"group\":null,\"major_label_policy\":{\"id\":\"2866\"},\"ticker\":{\"id\":\"2836\"}},\"id\":\"2835\",\"type\":\"LinearAxis\"},{\"attributes\":{\"line_color\":\"#30a2da\",\"line_width\":2,\"x\":{\"field\":\"Risk Ratio\"},\"y\":{\"field\":\"(SWPPX) 10 Year\"}},\"id\":\"2855\",\"type\":\"Line\"},{\"attributes\":{\"callback\":null,\"renderers\":[{\"id\":\"2858\"}],\"tags\":[\"hv_created\"],\"tooltips\":[[\"Risk Ratio\",\"@{Risk_Ratio}\"],[\"(SWPPX) 10 Year\",\"@{left_parenthesis_SWPPX_right_parenthesis_10_Year}\"]]},\"id\":\"2822\",\"type\":\"HoverTool\"},{\"attributes\":{\"line_alpha\":0.1,\"line_color\":\"#30a2da\",\"line_width\":2,\"x\":{\"field\":\"Risk Ratio\"},\"y\":{\"field\":\"(SWPPX) 10 Year\"}},\"id\":\"2856\",\"type\":\"Line\"},{\"attributes\":{\"below\":[{\"id\":\"2832\"}],\"center\":[{\"id\":\"2834\"},{\"id\":\"2838\"}],\"height\":300,\"left\":[{\"id\":\"2835\"}],\"margin\":[5,5,5,5],\"min_border_bottom\":10,\"min_border_left\":10,\"min_border_right\":10,\"min_border_top\":10,\"renderers\":[{\"id\":\"2858\"}],\"sizing_mode\":\"fixed\",\"title\":{\"id\":\"2824\"},\"toolbar\":{\"id\":\"2845\"},\"width\":700,\"x_range\":{\"id\":\"2820\"},\"x_scale\":{\"id\":\"2828\"},\"y_range\":{\"id\":\"2821\"},\"y_scale\":{\"id\":\"2830\"}},\"id\":\"2823\",\"subtype\":\"Figure\",\"type\":\"Plot\"},{\"attributes\":{},\"id\":\"2830\",\"type\":\"LinearScale\"},{\"attributes\":{\"source\":{\"id\":\"2852\"}},\"id\":\"2859\",\"type\":\"CDSView\"},{\"attributes\":{\"axis_label\":\"Risk Ratio\",\"coordinates\":null,\"formatter\":{\"id\":\"2862\"},\"group\":null,\"major_label_policy\":{\"id\":\"2863\"},\"ticker\":{\"id\":\"2833\"}},\"id\":\"2832\",\"type\":\"CategoricalAxis\"},{\"attributes\":{},\"id\":\"2865\",\"type\":\"BasicTickFormatter\"},{\"attributes\":{\"axis\":{\"id\":\"2835\"},\"coordinates\":null,\"dimension\":1,\"grid_line_color\":null,\"group\":null,\"ticker\":null},\"id\":\"2838\",\"type\":\"Grid\"},{\"attributes\":{},\"id\":\"2833\",\"type\":\"CategoricalTicker\"}],\"root_ids\":[\"2818\"]},\"title\":\"Bokeh Application\",\"version\":\"2.4.1\"}};\n",
       "    var render_items = [{\"docid\":\"fcc32050-7d6e-4990-856b-3470cc0f0547\",\"root_ids\":[\"2818\"],\"roots\":{\"2818\":\"feba1dc2-78d6-43c3-bae3-cbb75776b6ee\"}}];\n",
       "    root.Bokeh.embed.embed_items_notebook(docs_json, render_items);\n",
       "  }\n",
       "  if (root.Bokeh !== undefined && root.Bokeh.Panel !== undefined) {\n",
       "    embed_document(root);\n",
       "  } else {\n",
       "    var attempts = 0;\n",
       "    var timer = setInterval(function(root) {\n",
       "      if (root.Bokeh !== undefined && root.Bokeh.Panel !== undefined) {\n",
       "        clearInterval(timer);\n",
       "        embed_document(root);\n",
       "      } else if (document.readyState == \"complete\") {\n",
       "        attempts++;\n",
       "        if (attempts > 200) {\n",
       "          clearInterval(timer);\n",
       "          console.log(\"Bokeh: ERROR: Unable to run BokehJS code because BokehJS library is missing\");\n",
       "        }\n",
       "      }\n",
       "    }, 25, root)\n",
       "  }\n",
       "})(window);</script>"
      ],
      "text/plain": [
       ":Curve   [Risk Ratio]   ((SWPPX) 10 Year)"
      ]
     },
     "execution_count": 111,
     "metadata": {
      "application/vnd.holoviews_exec.v0+json": {
       "id": "2818"
      }
     },
     "output_type": "execute_result"
    }
   ],
   "source": [
    "swppx_500.hvplot (kind='line', x = 'Risk Ratio', y = '(SWPPX) 10 Year')"
   ]
  },
  {
   "cell_type": "code",
   "execution_count": 112,
   "id": "31d5151b-d7aa-4eb0-9929-ec2558a5d51c",
   "metadata": {},
   "outputs": [
    {
     "data": {
      "text/html": [
       "<div>\n",
       "<style scoped>\n",
       "    .dataframe tbody tr th:only-of-type {\n",
       "        vertical-align: middle;\n",
       "    }\n",
       "\n",
       "    .dataframe tbody tr th {\n",
       "        vertical-align: top;\n",
       "    }\n",
       "\n",
       "    .dataframe thead th {\n",
       "        text-align: right;\n",
       "    }\n",
       "</style>\n",
       "<table border=\"1\" class=\"dataframe\">\n",
       "  <thead>\n",
       "    <tr style=\"text-align: right;\">\n",
       "      <th></th>\n",
       "      <th>Open</th>\n",
       "      <th>High</th>\n",
       "      <th>Low</th>\n",
       "      <th>Close</th>\n",
       "    </tr>\n",
       "    <tr>\n",
       "      <th>Date</th>\n",
       "      <th></th>\n",
       "      <th></th>\n",
       "      <th></th>\n",
       "      <th></th>\n",
       "    </tr>\n",
       "  </thead>\n",
       "  <tbody>\n",
       "    <tr>\n",
       "      <th>2017-10-26</th>\n",
       "      <td>36.841282</td>\n",
       "      <td>36.841282</td>\n",
       "      <td>36.841282</td>\n",
       "      <td>36.841282</td>\n",
       "    </tr>\n",
       "    <tr>\n",
       "      <th>2017-10-27</th>\n",
       "      <td>37.145302</td>\n",
       "      <td>37.145302</td>\n",
       "      <td>37.145302</td>\n",
       "      <td>37.145302</td>\n",
       "    </tr>\n",
       "    <tr>\n",
       "      <th>2017-10-30</th>\n",
       "      <td>37.025532</td>\n",
       "      <td>37.025532</td>\n",
       "      <td>37.025532</td>\n",
       "      <td>37.025532</td>\n",
       "    </tr>\n",
       "    <tr>\n",
       "      <th>2017-10-31</th>\n",
       "      <td>37.062386</td>\n",
       "      <td>37.062386</td>\n",
       "      <td>37.062386</td>\n",
       "      <td>37.062386</td>\n",
       "    </tr>\n",
       "    <tr>\n",
       "      <th>2017-11-01</th>\n",
       "      <td>37.117664</td>\n",
       "      <td>37.117664</td>\n",
       "      <td>37.117664</td>\n",
       "      <td>37.117664</td>\n",
       "    </tr>\n",
       "  </tbody>\n",
       "</table>\n",
       "</div>"
      ],
      "text/plain": [
       "                 Open       High        Low      Close\n",
       "Date                                                  \n",
       "2017-10-26  36.841282  36.841282  36.841282  36.841282\n",
       "2017-10-27  37.145302  37.145302  37.145302  37.145302\n",
       "2017-10-30  37.025532  37.025532  37.025532  37.025532\n",
       "2017-10-31  37.062386  37.062386  37.062386  37.062386\n",
       "2017-11-01  37.117664  37.117664  37.117664  37.117664"
      ]
     },
     "execution_count": 112,
     "metadata": {},
     "output_type": "execute_result"
    }
   ],
   "source": [
    "# Displaying Schwab S&P 500 fund over the 4yr scale \n",
    "\n",
    "s500_hist = yf.Ticker(\"SWPPX\").history(start = '2017-10-26', end = '2021-10-26')\n",
    "s500_hist = s500_hist.drop(columns=[ \"Volume\", \"Dividends\", \"Stock Splits\"], axis = 1)\n",
    "     \n",
    "s500_hist.head()"
   ]
  },
  {
   "cell_type": "markdown",
   "id": "9ae17ab7-82a0-4b29-a4a4-7002f5dbde81",
   "metadata": {},
   "source": [
    "# Visual Data"
   ]
  },
  {
   "cell_type": "markdown",
   "id": "ab188dea-70ee-4cca-8443-67bb10d18c15",
   "metadata": {
    "tags": []
   },
   "source": [
    "SWERX 2040 Linear Regression"
   ]
  },
  {
   "cell_type": "code",
   "execution_count": null,
   "id": "45e2ef03-fc6b-4d9e-bfc9-4d9b059c64de",
   "metadata": {},
   "outputs": [],
   "source": [
    "from sklearn.linear_model import LinearRegression\n",
    "\n"
   ]
  },
  {
   "cell_type": "code",
   "execution_count": 114,
   "id": "3bc72e47-3369-4125-bb42-10ee7ab0bfcb",
   "metadata": {},
   "outputs": [],
   "source": [
    "\n",
    "\n",
    "model = LinearRegression()\n",
    "model.fit(x_train, y_train)prediction = model.predict(x_test)\n",
    "root_mean = np.sqrt(np.mean(np.power((np.array(y_test)-np.array(prediction)),2)))\n",
    "print(root_mean)test['Predictions']=0\n",
    "test['Predictions']= prediction\n",
    "plt.plot(train['Adj Close'])\n",
    "plt.plot(test[['Adj Close', 'Predictions']])"
   ]
  },
  {
   "cell_type": "code",
   "execution_count": 115,
   "id": "fa92fe3d-1e8e-48c6-b4f4-fefb1835782e",
   "metadata": {},
   "outputs": [
    {
     "ename": "AttributeError",
     "evalue": "module 'pandas' has no attribute 'to_datetime9'",
     "output_type": "error",
     "traceback": [
      "\u001b[0;31m---------------------------------------------------------------------------\u001b[0m",
      "\u001b[0;31mAttributeError\u001b[0m                            Traceback (most recent call last)",
      "\u001b[0;32m/var/folders/64/blrcz3nj1_zfkwx95b73kzbw0000gn/T/ipykernel_30741/1770782030.py\u001b[0m in \u001b[0;36m<module>\u001b[0;34m\u001b[0m\n\u001b[1;32m      1\u001b[0m \u001b[0;31m# Setting Date Indencies\u001b[0m\u001b[0;34m\u001b[0m\u001b[0;34m\u001b[0m\u001b[0m\n\u001b[1;32m      2\u001b[0m \u001b[0;34m\u001b[0m\u001b[0m\n\u001b[0;32m----> 3\u001b[0;31m \u001b[0ms2040_hist\u001b[0m\u001b[0;34m[\u001b[0m\u001b[0;34m'Date'\u001b[0m\u001b[0;34m]\u001b[0m \u001b[0;34m=\u001b[0m \u001b[0mpd\u001b[0m\u001b[0;34m.\u001b[0m\u001b[0mto_datetime9\u001b[0m\u001b[0;34m\u001b[0m\u001b[0;34m\u001b[0m\u001b[0m\n\u001b[0m",
      "\u001b[0;32m/opt/anaconda3/envs/dev/lib/python3.9/site-packages/pandas/__init__.py\u001b[0m in \u001b[0;36m__getattr__\u001b[0;34m(name)\u001b[0m\n\u001b[1;32m    242\u001b[0m         \u001b[0;32mreturn\u001b[0m \u001b[0m_SparseArray\u001b[0m\u001b[0;34m\u001b[0m\u001b[0;34m\u001b[0m\u001b[0m\n\u001b[1;32m    243\u001b[0m \u001b[0;34m\u001b[0m\u001b[0m\n\u001b[0;32m--> 244\u001b[0;31m     \u001b[0;32mraise\u001b[0m \u001b[0mAttributeError\u001b[0m\u001b[0;34m(\u001b[0m\u001b[0;34mf\"module 'pandas' has no attribute '{name}'\"\u001b[0m\u001b[0;34m)\u001b[0m\u001b[0;34m\u001b[0m\u001b[0;34m\u001b[0m\u001b[0m\n\u001b[0m\u001b[1;32m    245\u001b[0m \u001b[0;34m\u001b[0m\u001b[0m\n\u001b[1;32m    246\u001b[0m \u001b[0;34m\u001b[0m\u001b[0m\n",
      "\u001b[0;31mAttributeError\u001b[0m: module 'pandas' has no attribute 'to_datetime9'"
     ]
    }
   ],
   "source": [
    "# Setting Date Indencies\n",
    "\n"
   ]
  },
  {
   "cell_type": "markdown",
   "id": "7ad6d966-8f17-4b06-a5c5-35861c1c81b0",
   "metadata": {},
   "source": [
    "SWPPX S&P 500 Linear Regression"
   ]
  },
  {
   "cell_type": "code",
   "execution_count": null,
   "id": "d56bcdb3-9538-4e89-894e-877279dd7329",
   "metadata": {},
   "outputs": [],
   "source": []
  },
  {
   "cell_type": "markdown",
   "id": "9f744961-6a3e-475a-8aba-f8778fb05010",
   "metadata": {},
   "source": [
    "# Risk Analysis"
   ]
  },
  {
   "cell_type": "markdown",
   "id": "ed7cc5fc-091b-419c-9a2b-a25a0d23796d",
   "metadata": {},
   "source": [
    "SWERX"
   ]
  },
  {
   "cell_type": "code",
   "execution_count": null,
   "id": "85712d2c-682a-4c68-b77e-a76ba7f14167",
   "metadata": {},
   "outputs": [],
   "source": [
    "# \n",
    "s2040_hist.hvplot(kind='line', x = 'Risk Ratio', y = '(SWERX) 3 years')"
   ]
  },
  {
   "cell_type": "markdown",
   "id": "d2d64554-ed7f-4b6d-aff3-92031d287e91",
   "metadata": {},
   "source": [
    "SWPPX"
   ]
  },
  {
   "cell_type": "code",
   "execution_count": null,
   "id": "5a6ddde7-3072-4d5f-ba2f-52b18bb49725",
   "metadata": {},
   "outputs": [],
   "source": [
    "#\n"
   ]
  },
  {
   "cell_type": "markdown",
   "id": "40494109-ed06-44d4-8953-8a5993fbf5f9",
   "metadata": {},
   "source": [
    "# Conclusion: Which is the best Investment over the 500 trading days?"
   ]
  },
  {
   "cell_type": "code",
   "execution_count": null,
   "id": "46c0a044-7c8f-481f-9149-72ad1f824fb7",
   "metadata": {},
   "outputs": [],
   "source": []
  },
  {
   "cell_type": "code",
   "execution_count": null,
   "id": "7446d8ef-f819-45f1-954c-4a831b889163",
   "metadata": {},
   "outputs": [],
   "source": [
    "# Something Special : Bullet Chart : https://medium.com/codex/financial-charts-and-visuals-with-plotly-in-python-843ffa9341a9\n"
   ]
  }
 ],
 "metadata": {
  "kernelspec": {
   "display_name": "Anaconda (base)",
   "language": "python",
   "name": "anaconda-base"
  },
  "language_info": {
   "codemirror_mode": {
    "name": "ipython",
    "version": 3
   },
   "file_extension": ".py",
   "mimetype": "text/x-python",
   "name": "python",
   "nbconvert_exporter": "python",
   "pygments_lexer": "ipython3",
   "version": "3.9.7"
  }
 },
 "nbformat": 4,
 "nbformat_minor": 5
}
